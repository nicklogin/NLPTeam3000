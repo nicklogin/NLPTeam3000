{
  "nbformat": 4,
  "nbformat_minor": 0,
  "metadata": {
    "kernelspec": {
      "display_name": "Python 3",
      "language": "python",
      "name": "python3"
    },
    "language_info": {
      "codemirror_mode": {
        "name": "ipython",
        "version": 3
      },
      "file_extension": ".py",
      "mimetype": "text/x-python",
      "name": "python",
      "nbconvert_exporter": "python",
      "pygments_lexer": "ipython3",
      "version": "3.7.3"
    },
    "colab": {
      "name": "Copy of find keywords.ipynb",
      "provenance": [],
      "collapsed_sections": []
    }
  },
  "cells": [
    {
      "cell_type": "code",
      "metadata": {
        "id": "n81PxXX7MhXS",
        "colab_type": "code",
        "colab": {}
      },
      "source": [
        "import pandas as pd"
      ],
      "execution_count": 0,
      "outputs": []
    },
    {
      "cell_type": "code",
      "metadata": {
        "id": "JJ6VVDKDMhXa",
        "colab_type": "code",
        "colab": {}
      },
      "source": [
        "import xml.etree.ElementTree as et"
      ],
      "execution_count": 0,
      "outputs": []
    },
    {
      "cell_type": "code",
      "metadata": {
        "id": "1ezZunGTMhXg",
        "colab_type": "code",
        "colab": {}
      },
      "source": [
        "import os"
      ],
      "execution_count": 0,
      "outputs": []
    },
    {
      "cell_type": "code",
      "metadata": {
        "id": "PZq6-wI6MhXn",
        "colab_type": "code",
        "colab": {}
      },
      "source": [
        "import re"
      ],
      "execution_count": 0,
      "outputs": []
    },
    {
      "cell_type": "code",
      "metadata": {
        "id": "X-zymgTyQzz6",
        "colab_type": "code",
        "colab": {}
      },
      "source": [
        "import urllib.request"
      ],
      "execution_count": 0,
      "outputs": []
    },
    {
      "cell_type": "code",
      "metadata": {
        "id": "c6R_0qzxMhXu",
        "colab_type": "code",
        "colab": {}
      },
      "source": [
        "xtree = et.parse(urllib.request.urlopen(\"https://raw.githubusercontent.com/nicklogin/NLPTeam3000/master/development/SentiRuEval_rest_train.xml\"))"
      ],
      "execution_count": 0,
      "outputs": []
    },
    {
      "cell_type": "code",
      "metadata": {
        "id": "RHtfu6ZgVNc2",
        "colab_type": "code",
        "outputId": "f5efdca0-1549-4e08-9387-57b18eef9066",
        "colab": {
          "base_uri": "https://localhost:8080/",
          "height": 301
        }
      },
      "source": [
        "!wget https://github.com/nicklogin/NLPTeam3000/archive/master.zip"
      ],
      "execution_count": 0,
      "outputs": [
        {
          "output_type": "stream",
          "text": [
            "--2019-12-22 22:06:45--  https://github.com/nicklogin/NLPTeam3000/archive/master.zip\n",
            "Resolving github.com (github.com)... 140.82.118.4\n",
            "Connecting to github.com (github.com)|140.82.118.4|:443... connected.\n",
            "HTTP request sent, awaiting response... 302 Found\n",
            "Location: https://codeload.github.com/nicklogin/NLPTeam3000/zip/master [following]\n",
            "--2019-12-22 22:06:45--  https://codeload.github.com/nicklogin/NLPTeam3000/zip/master\n",
            "Resolving codeload.github.com (codeload.github.com)... 140.82.114.10\n",
            "Connecting to codeload.github.com (codeload.github.com)|140.82.114.10|:443... connected.\n",
            "HTTP request sent, awaiting response... 200 OK\n",
            "Length: unspecified [application/zip]\n",
            "Saving to: ‘master.zip.1’\n",
            "\n",
            "master.zip.1            [     <=>            ]  11.71M  3.00MB/s    in 3.9s    \n",
            "\n",
            "2019-12-22 22:06:50 (3.00 MB/s) - ‘master.zip.1’ saved [12277133]\n",
            "\n"
          ],
          "name": "stdout"
        }
      ]
    },
    {
      "cell_type": "code",
      "metadata": {
        "id": "uaDz73I2VSI0",
        "colab_type": "code",
        "outputId": "b3d68e96-5af3-4947-b00c-df96f1dbe529",
        "colab": {
          "base_uri": "https://localhost:8080/",
          "height": 461
        }
      },
      "source": [
        "!unzip master.zip"
      ],
      "execution_count": 0,
      "outputs": [
        {
          "output_type": "stream",
          "text": [
            "Archive:  master.zip\n",
            "e147713f32a3e8a2c083bac0d49f4ca4993b09e9\n",
            "replace NLPTeam3000-master/.ipynb_checkpoints/convert to needed format-checkpoint.ipynb? [y]es, [n]o, [A]ll, [N]one, [r]ename: y\n",
            "  inflating: NLPTeam3000-master/.ipynb_checkpoints/convert to needed format-checkpoint.ipynb  \n",
            "replace NLPTeam3000-master/.ipynb_checkpoints/find keywords-checkpoint.ipynb? [y]es, [n]o, [A]ll, [N]one, [r]ename: y\n",
            "  inflating: NLPTeam3000-master/.ipynb_checkpoints/find keywords-checkpoint.ipynb  \n",
            "replace NLPTeam3000-master/12943.tsv? [y]es, [n]o, [A]ll, [N]one, [r]ename: y\n",
            "  inflating: NLPTeam3000-master/12943.tsv  \n",
            "replace NLPTeam3000-master/12943.xlsx? [y]es, [n]o, [A]ll, [N]one, [r]ename: y\n",
            "  inflating: NLPTeam3000-master/12943.xlsx  \n",
            "replace NLPTeam3000-master/13823.tsv? [y]es, [n]o, [A]ll, [N]one, [r]ename: y\n",
            "  inflating: NLPTeam3000-master/13823.tsv  \n",
            "replace NLPTeam3000-master/13823.xlsx? [y]es, [n]o, [A]ll, [N]one, [r]ename: y\n",
            "  inflating: NLPTeam3000-master/13823.xlsx  \n",
            "replace NLPTeam3000-master/20086.tsv? [y]es, [n]o, [A]ll, [N]one, [r]ename: y\n",
            "  inflating: NLPTeam3000-master/20086.tsv  \n",
            "replace NLPTeam3000-master/20086.xlsx? [y]es, [n]o, [A]ll, [N]one, [r]ename: y\n",
            "  inflating: NLPTeam3000-master/20086.xlsx  \n",
            "replace NLPTeam3000-master/28083.tsv? [y]es, [n]o, [A]ll, [N]one, [r]ename: y\n",
            "  inflating: NLPTeam3000-master/28083.tsv  \n",
            "replace NLPTeam3000-master/28083.xlsx? [y]es, [n]o, [A]ll, [N]one, [r]ename: y\n",
            "  inflating: NLPTeam3000-master/28083.xlsx  \n",
            "replace NLPTeam3000-master/32840.tsv? [y]es, [n]o, [A]ll, [N]one, [r]ename: y\n",
            "  inflating: NLPTeam3000-master/32840.tsv  \n",
            "replace NLPTeam3000-master/32840.xlsx? [y]es, [n]o, [A]ll, [N]one, [r]ename: "
          ],
          "name": "stdout"
        }
      ]
    },
    {
      "cell_type": "code",
      "metadata": {
        "id": "MWTRZfJ-VaAn",
        "colab_type": "code",
        "outputId": "4af7f11a-e0e7-40d4-b684-0541b4e850a0",
        "colab": {
          "base_uri": "https://localhost:8080/",
          "height": 212
        }
      },
      "source": [
        "os.listdir('NLPTeam3000-master/разметка_финал')"
      ],
      "execution_count": 0,
      "outputs": [
        {
          "output_type": "execute_result",
          "data": {
            "text/plain": [
              "['20086.tsv',\n",
              " '.gitignore',\n",
              " '5648.tsv',\n",
              " '33693.tsv',\n",
              " '12943.tsv',\n",
              " '28083.tsv',\n",
              " '33591.tsv',\n",
              " '35486.tsv',\n",
              " '13823.tsv',\n",
              " '32840.tsv',\n",
              " '32856.tsv']"
            ]
          },
          "metadata": {
            "tags": []
          },
          "execution_count": 128
        }
      ]
    },
    {
      "cell_type": "code",
      "metadata": {
        "id": "iWbIAXYfqa22",
        "colab_type": "code",
        "outputId": "50661f87-e659-473b-9823-def4601643c0",
        "colab": {
          "base_uri": "https://localhost:8080/",
          "height": 194
        }
      },
      "source": [
        "os.listdir('NLPTeam3000-master/conllu_data')"
      ],
      "execution_count": 0,
      "outputs": [
        {
          "output_type": "execute_result",
          "data": {
            "text/plain": [
              "['20086.tsv',\n",
              " '5648.tsv',\n",
              " '33693.tsv',\n",
              " '12943.tsv',\n",
              " '28083.tsv',\n",
              " '33591.tsv',\n",
              " '35486.tsv',\n",
              " '13823.tsv',\n",
              " '32840.tsv',\n",
              " '32856.tsv']"
            ]
          },
          "metadata": {
            "tags": []
          },
          "execution_count": 132
        }
      ]
    },
    {
      "cell_type": "code",
      "metadata": {
        "id": "CzzewFRwMhX8",
        "colab_type": "code",
        "colab": {}
      },
      "source": [
        "root = xtree.getroot()"
      ],
      "execution_count": 0,
      "outputs": []
    },
    {
      "cell_type": "code",
      "metadata": {
        "id": "SIfL3uhGMhYC",
        "colab_type": "code",
        "colab": {}
      },
      "source": [
        "data = []\n",
        "columns = ['id', 'food', 'service', 'text']"
      ],
      "execution_count": 0,
      "outputs": []
    },
    {
      "cell_type": "code",
      "metadata": {
        "id": "Ga2nOj6vMhYI",
        "colab_type": "code",
        "colab": {}
      },
      "source": [
        "for review in root:\n",
        "    text_id = int(review.attrib['id'])\n",
        "    \n",
        "    scores = review.find('scores')\n",
        "    \n",
        "    food = int(scores.find('food').text)\n",
        "    service = int(scores.find('service').text)\n",
        "    \n",
        "    text = review.find('text').text\n",
        "    \n",
        "    data.append({'id': text_id,\n",
        "                'food': food,\n",
        "                'service': service,\n",
        "                'text': text})\n",
        "    \n",
        "\n",
        "df = pd.DataFrame(data, columns=columns)\n",
        "df = df.set_index('id')"
      ],
      "execution_count": 0,
      "outputs": []
    },
    {
      "cell_type": "code",
      "metadata": {
        "id": "97nelURWMhYO",
        "colab_type": "code",
        "outputId": "c436b790-d9bf-44d6-876c-a9f677eebd70",
        "colab": {
          "base_uri": "https://localhost:8080/",
          "height": 227
        }
      },
      "source": [
        "df.head()"
      ],
      "execution_count": 0,
      "outputs": [
        {
          "output_type": "execute_result",
          "data": {
            "text/html": [
              "<div>\n",
              "<style scoped>\n",
              "    .dataframe tbody tr th:only-of-type {\n",
              "        vertical-align: middle;\n",
              "    }\n",
              "\n",
              "    .dataframe tbody tr th {\n",
              "        vertical-align: top;\n",
              "    }\n",
              "\n",
              "    .dataframe thead th {\n",
              "        text-align: right;\n",
              "    }\n",
              "</style>\n",
              "<table border=\"1\" class=\"dataframe\">\n",
              "  <thead>\n",
              "    <tr style=\"text-align: right;\">\n",
              "      <th></th>\n",
              "      <th>food</th>\n",
              "      <th>service</th>\n",
              "      <th>text</th>\n",
              "    </tr>\n",
              "    <tr>\n",
              "      <th>id</th>\n",
              "      <th></th>\n",
              "      <th></th>\n",
              "      <th></th>\n",
              "    </tr>\n",
              "  </thead>\n",
              "  <tbody>\n",
              "    <tr>\n",
              "      <th>17600</th>\n",
              "      <td>8</td>\n",
              "      <td>8</td>\n",
              "      <td>И пускай на меня не обижается наш прославленны...</td>\n",
              "    </tr>\n",
              "    <tr>\n",
              "      <th>23518</th>\n",
              "      <td>9</td>\n",
              "      <td>10</td>\n",
              "      <td>- Здравствуйте. Виа Д’Арженто! - Добрый вечер,...</td>\n",
              "    </tr>\n",
              "    <tr>\n",
              "      <th>27221</th>\n",
              "      <td>9</td>\n",
              "      <td>1</td>\n",
              "      <td>Советую вам уволить Вашего метродотеля Елену, ...</td>\n",
              "    </tr>\n",
              "    <tr>\n",
              "      <th>29097</th>\n",
              "      <td>8</td>\n",
              "      <td>9</td>\n",
              "      <td>отличный средне вековый интеръер. Приятное обс...</td>\n",
              "    </tr>\n",
              "    <tr>\n",
              "      <th>23065</th>\n",
              "      <td>10</td>\n",
              "      <td>8</td>\n",
              "      <td>Ужинали в ресторане Баден-Баден 6 марта . Импо...</td>\n",
              "    </tr>\n",
              "  </tbody>\n",
              "</table>\n",
              "</div>"
            ],
            "text/plain": [
              "       food  service                                               text\n",
              "id                                                                     \n",
              "17600     8        8  И пускай на меня не обижается наш прославленны...\n",
              "23518     9       10  - Здравствуйте. Виа Д’Арженто! - Добрый вечер,...\n",
              "27221     9        1  Советую вам уволить Вашего метродотеля Елену, ...\n",
              "29097     8        9  отличный средне вековый интеръер. Приятное обс...\n",
              "23065    10        8  Ужинали в ресторане Баден-Баден 6 марта . Импо..."
            ]
          },
          "metadata": {
            "tags": []
          },
          "execution_count": 139
        }
      ]
    },
    {
      "cell_type": "code",
      "metadata": {
        "id": "0e3IXoFSMhYU",
        "colab_type": "code",
        "colab": {}
      },
      "source": [
        "texts = df['text']\n",
        "y = df[['food', 'service']].applymap(lambda x: 1 if x > 5 else 0)"
      ],
      "execution_count": 0,
      "outputs": []
    },
    {
      "cell_type": "code",
      "metadata": {
        "id": "hsziBR3Yp_CV",
        "colab_type": "code",
        "outputId": "ec9c05ba-3e14-4250-aeab-832b7a6ec216",
        "colab": {
          "base_uri": "https://localhost:8080/",
          "height": 34
        }
      },
      "source": [
        "len(df)"
      ],
      "execution_count": 0,
      "outputs": [
        {
          "output_type": "execute_result",
          "data": {
            "text/plain": [
              "19034"
            ]
          },
          "metadata": {
            "tags": []
          },
          "execution_count": 141
        }
      ]
    },
    {
      "cell_type": "code",
      "metadata": {
        "id": "lewLXuz7yj1K",
        "colab_type": "code",
        "outputId": "6bf125c6-c9df-4075-faba-6843df2cdd51",
        "colab": {
          "base_uri": "https://localhost:8080/",
          "height": 227
        }
      },
      "source": [
        "y.head()"
      ],
      "execution_count": 0,
      "outputs": [
        {
          "output_type": "execute_result",
          "data": {
            "text/html": [
              "<div>\n",
              "<style scoped>\n",
              "    .dataframe tbody tr th:only-of-type {\n",
              "        vertical-align: middle;\n",
              "    }\n",
              "\n",
              "    .dataframe tbody tr th {\n",
              "        vertical-align: top;\n",
              "    }\n",
              "\n",
              "    .dataframe thead th {\n",
              "        text-align: right;\n",
              "    }\n",
              "</style>\n",
              "<table border=\"1\" class=\"dataframe\">\n",
              "  <thead>\n",
              "    <tr style=\"text-align: right;\">\n",
              "      <th></th>\n",
              "      <th>food</th>\n",
              "      <th>service</th>\n",
              "    </tr>\n",
              "    <tr>\n",
              "      <th>id</th>\n",
              "      <th></th>\n",
              "      <th></th>\n",
              "    </tr>\n",
              "  </thead>\n",
              "  <tbody>\n",
              "    <tr>\n",
              "      <th>17600</th>\n",
              "      <td>1</td>\n",
              "      <td>1</td>\n",
              "    </tr>\n",
              "    <tr>\n",
              "      <th>23518</th>\n",
              "      <td>1</td>\n",
              "      <td>1</td>\n",
              "    </tr>\n",
              "    <tr>\n",
              "      <th>27221</th>\n",
              "      <td>1</td>\n",
              "      <td>0</td>\n",
              "    </tr>\n",
              "    <tr>\n",
              "      <th>29097</th>\n",
              "      <td>1</td>\n",
              "      <td>1</td>\n",
              "    </tr>\n",
              "    <tr>\n",
              "      <th>23065</th>\n",
              "      <td>1</td>\n",
              "      <td>1</td>\n",
              "    </tr>\n",
              "  </tbody>\n",
              "</table>\n",
              "</div>"
            ],
            "text/plain": [
              "       food  service\n",
              "id                  \n",
              "17600     1        1\n",
              "23518     1        1\n",
              "27221     1        0\n",
              "29097     1        1\n",
              "23065     1        1"
            ]
          },
          "metadata": {
            "tags": []
          },
          "execution_count": 142
        }
      ]
    },
    {
      "cell_type": "code",
      "metadata": {
        "id": "YPZL55ypMhYe",
        "colab_type": "code",
        "colab": {}
      },
      "source": [
        "from sklearn.feature_extraction.text import TfidfVectorizer\n",
        "from sklearn.model_selection import train_test_split\n",
        "from sklearn.linear_model import SGDClassifier\n",
        "from sklearn.model_selection import GridSearchCV"
      ],
      "execution_count": 0,
      "outputs": []
    },
    {
      "cell_type": "markdown",
      "metadata": {
        "id": "xjPtZfzoMhYj",
        "colab_type": "text"
      },
      "source": [
        "Для начала обучим простой классифаер текстов:"
      ]
    },
    {
      "cell_type": "code",
      "metadata": {
        "id": "TRqqnRX9MhYl",
        "colab_type": "code",
        "colab": {}
      },
      "source": [
        "import numpy as np"
      ],
      "execution_count": 0,
      "outputs": []
    },
    {
      "cell_type": "code",
      "metadata": {
        "id": "hf1oJTjfMhYr",
        "colab_type": "code",
        "outputId": "7eb35c32-c193-43ce-e4d1-40f3159b104a",
        "colab": {
          "base_uri": "https://localhost:8080/",
          "height": 70
        }
      },
      "source": [
        "vectorizer = TfidfVectorizer()\n",
        "\n",
        "texts_train, texts_test, y_train, y_test = train_test_split(texts, y, test_size=0.2, random_state=42)\n",
        "\n",
        "X_train = vectorizer.fit_transform(texts_train)\n",
        "X_test = vectorizer.transform(texts_test)\n",
        "\n",
        "parameter_grid = {\"penalty\": [\"l1\", \"l2\", \"elasticnet\"],\n",
        "                 \"alpha\": [10**i for i in range(-10, 1)]}\n",
        "\n",
        "clf_food = GridSearchCV(SGDClassifier(random_state=42, n_jobs=2, loss=\"log\"), parameter_grid, n_jobs=2)\n",
        "clf_food.fit(X_train, y_train[\"food\"])\n",
        "clf_food.score(X_test, y_test[\"food\"])"
      ],
      "execution_count": 0,
      "outputs": [
        {
          "output_type": "stream",
          "text": [
            "/usr/local/lib/python3.6/dist-packages/sklearn/model_selection/_split.py:1978: FutureWarning: The default value of cv will change from 3 to 5 in version 0.22. Specify it explicitly to silence this warning.\n",
            "  warnings.warn(CV_WARNING, FutureWarning)\n"
          ],
          "name": "stderr"
        },
        {
          "output_type": "execute_result",
          "data": {
            "text/plain": [
              "0.8360914105594957"
            ]
          },
          "metadata": {
            "tags": []
          },
          "execution_count": 145
        }
      ]
    },
    {
      "cell_type": "code",
      "metadata": {
        "id": "Dck2fMvJMhYx",
        "colab_type": "code",
        "outputId": "5b8086f6-a69f-43a8-f923-5d4bb99c1a71",
        "colab": {
          "base_uri": "https://localhost:8080/",
          "height": 70
        }
      },
      "source": [
        "clf_service = GridSearchCV(SGDClassifier(random_state=42, n_jobs=2, loss=\"log\"), parameter_grid, n_jobs=2)\n",
        "clf_service.fit(X_train, y_train[\"service\"])\n",
        "clf_service.score(X_test, y_test[\"service\"])"
      ],
      "execution_count": 0,
      "outputs": [
        {
          "output_type": "stream",
          "text": [
            "/usr/local/lib/python3.6/dist-packages/sklearn/model_selection/_split.py:1978: FutureWarning: The default value of cv will change from 3 to 5 in version 0.22. Specify it explicitly to silence this warning.\n",
            "  warnings.warn(CV_WARNING, FutureWarning)\n"
          ],
          "name": "stderr"
        },
        {
          "output_type": "execute_result",
          "data": {
            "text/plain": [
              "0.860782768584187"
            ]
          },
          "metadata": {
            "tags": []
          },
          "execution_count": 146
        }
      ]
    },
    {
      "cell_type": "markdown",
      "metadata": {
        "id": "D7JtPC1SMhY2",
        "colab_type": "text"
      },
      "source": [
        "Продумаем простую реализацию поиска тональных слов - для каждого слова смотрим контексты, включающие его длины 5 и если во всех контекстах вероятность положительного или отрицательного класса больше определённого значения, считаем это слово тональным"
      ]
    },
    {
      "cell_type": "code",
      "metadata": {
        "id": "Rd0HOJXkMhY4",
        "colab_type": "code",
        "outputId": "9dd55a2e-8828-46f6-e1fd-055e961d8130",
        "colab": {
          "base_uri": "https://localhost:8080/",
          "height": 34
        }
      },
      "source": [
        "clf_food.predict_proba(vectorizer.transform([\"Невкусная еда\"]))"
      ],
      "execution_count": 0,
      "outputs": [
        {
          "output_type": "execute_result",
          "data": {
            "text/plain": [
              "array([[0.95116738, 0.04883262]])"
            ]
          },
          "metadata": {
            "tags": []
          },
          "execution_count": 147
        }
      ]
    },
    {
      "cell_type": "code",
      "metadata": {
        "id": "CAHywloCMhZD",
        "colab_type": "code",
        "outputId": "ad4ebb66-0cfb-4fbe-cb30-2ae1b681cb63",
        "colab": {
          "base_uri": "https://localhost:8080/",
          "height": 34
        }
      },
      "source": [
        "clf_food.predict_proba(vectorizer.transform(['Вкусная еда']))"
      ],
      "execution_count": 0,
      "outputs": [
        {
          "output_type": "execute_result",
          "data": {
            "text/plain": [
              "array([[0.00569557, 0.99430443]])"
            ]
          },
          "metadata": {
            "tags": []
          },
          "execution_count": 148
        }
      ]
    },
    {
      "cell_type": "code",
      "metadata": {
        "id": "l6VwMfD0MhZM",
        "colab_type": "code",
        "outputId": "bd8250d6-7367-42be-f96c-5ae854e00b62",
        "colab": {
          "base_uri": "https://localhost:8080/",
          "height": 34
        }
      },
      "source": [
        "clf_service.predict_proba(vectorizer.transform(['Отличное обслуживание']))"
      ],
      "execution_count": 0,
      "outputs": [
        {
          "output_type": "execute_result",
          "data": {
            "text/plain": [
              "array([[0.01318158, 0.98681842]])"
            ]
          },
          "metadata": {
            "tags": []
          },
          "execution_count": 149
        }
      ]
    },
    {
      "cell_type": "code",
      "metadata": {
        "id": "XKxnYwaJMhZT",
        "colab_type": "code",
        "outputId": "f11fdf85-6cdf-4e86-a095-c52e2eb4ecaf",
        "colab": {
          "base_uri": "https://localhost:8080/",
          "height": 34
        }
      },
      "source": [
        "clf_service.predict_proba(vectorizer.transform(['Ужасное обслуживание']))"
      ],
      "execution_count": 0,
      "outputs": [
        {
          "output_type": "execute_result",
          "data": {
            "text/plain": [
              "array([[0.9945265, 0.0054735]])"
            ]
          },
          "metadata": {
            "tags": []
          },
          "execution_count": 150
        }
      ]
    },
    {
      "cell_type": "markdown",
      "metadata": {
        "id": "gySvHXI9MhZZ",
        "colab_type": "text"
      },
      "source": [
        "Загрузим наши размеченные тексты:"
      ]
    },
    {
      "cell_type": "code",
      "metadata": {
        "id": "eKp-RTStMhZb",
        "colab_type": "code",
        "colab": {}
      },
      "source": [
        "def get_prepared_data(conllu_data_folder, tonal_folder):\n",
        "    texts = []\n",
        "    food_pos = []\n",
        "    food_neg = []\n",
        "    service_pos = []\n",
        "    service_neg = []\n",
        "    \n",
        "    for file in os.listdir(conllu_data_folder):\n",
        "        if file.endswith('.tsv'):\n",
        "            sent_id = 0\n",
        "\n",
        "            sentences = []\n",
        "            \n",
        "            text = open(os.path.join(conllu_data_folder, file), 'r', encoding='utf-8').read()\n",
        "\n",
        "            for line in text.splitlines()[1:]:\n",
        "                if '# sent_id' in line:\n",
        "                    sent_id = re.search(\"sent_id = ([0-9]+)\", line).group(1)\n",
        "                    sentences.append([])\n",
        "                try:\n",
        "                    token_id, token, lemma, pos, *other = line.split('\\t')\n",
        "                except:\n",
        "                    continue\n",
        "                if token:\n",
        "                    sentences[-1].append((sent_id, int(token_id), token))\n",
        "            \n",
        "            markup = open(os.path.join(tonal_folder, file[:-4]+\".tsv\"), 'r', encoding='utf-8').read()\n",
        "            \n",
        "            food_neg_ids = set()\n",
        "            food_pos_ids = set()\n",
        "            service_neg_ids = set()\n",
        "            service_pos_ids = set()\n",
        "            \n",
        "            for line in markup.splitlines():\n",
        "                line = line.strip()\n",
        "                if line:\n",
        "                    sent_id, token_ids, aspect, mark = line.split('\\t')\n",
        "                    token_ids = [int(i) for i in token_ids.split(',')]\n",
        "                    token_ids = [i for i in range(token_ids[0], token_ids[-1])]\n",
        "                    if aspect == 'Food' and mark == '1':\n",
        "                        for token_id in token_ids:\n",
        "                            food_pos_ids.add((sent_id, token_id))\n",
        "                    elif aspect == 'Food' and mark == '0':\n",
        "                        for token_id in token_ids:\n",
        "                            food_neg_ids.add((sent_id, token_id))\n",
        "                    elif aspect == 'Service' and mark == '1':\n",
        "                        for token_id in token_ids:\n",
        "                            service_pos_ids.add((sent_id, token_id))\n",
        "                    elif aspect == 'Service' and mark == '0':\n",
        "                        for token_id in token_ids:\n",
        "                            service_neg_ids.add((sent_id, token_id))\n",
        "                    \n",
        "            for sent in sentences:\n",
        "                for sent_id, token_id, token in sent:\n",
        "                    for lst, hashmap in zip([food_neg, food_pos, service_neg, service_pos],\n",
        "                        [food_neg_ids, food_pos_ids, service_neg_ids, service_pos_ids]):\n",
        "                        if (sent_id, token_id) in hashmap:\n",
        "                            lst.append(1)\n",
        "                        else:\n",
        "                            lst.append(0)\n",
        "\n",
        "            for sent_id, sent in enumerate(sentences):\n",
        "              for token_id, token in enumerate(sent):\n",
        "                sentences[sent_id][token_id] = token[2]\n",
        "            texts.append(sentences)\n",
        "            \n",
        "    return texts, food_pos, food_neg, service_pos, service_neg"
      ],
      "execution_count": 0,
      "outputs": []
    },
    {
      "cell_type": "code",
      "metadata": {
        "id": "FLxxnRyaMhZm",
        "colab_type": "code",
        "colab": {}
      },
      "source": [
        "data, food_pos, food_neg, service_pos, service_neg  = get_prepared_data(conllu_data_folder=\"NLPTeam3000-master/conllu_data\",\n",
        "                                                                       tonal_folder=\"NLPTeam3000-master/разметка_финал\")"
      ],
      "execution_count": 0,
      "outputs": []
    },
    {
      "cell_type": "code",
      "metadata": {
        "id": "CxLW65xjMhZv",
        "colab_type": "code",
        "outputId": "92766ad2-2435-4076-db0e-789a307850f8",
        "colab": {
          "base_uri": "https://localhost:8080/",
          "height": 34
        }
      },
      "source": [
        "sum(food_pos)"
      ],
      "execution_count": 0,
      "outputs": [
        {
          "output_type": "execute_result",
          "data": {
            "text/plain": [
              "9"
            ]
          },
          "metadata": {
            "tags": []
          },
          "execution_count": 153
        }
      ]
    },
    {
      "cell_type": "code",
      "metadata": {
        "id": "dvCe0xLJMhZ5",
        "colab_type": "code",
        "colab": {}
      },
      "source": [
        "def predict_text_proba(texts, clf, vectorizer):\n",
        "    return clf.predict_proba(vectorizer.transform(texts))"
      ],
      "execution_count": 0,
      "outputs": []
    },
    {
      "cell_type": "code",
      "metadata": {
        "id": "jb5aWlNMMhZ_",
        "colab_type": "code",
        "colab": {}
      },
      "source": [
        "avg = lambda x: sum(x)/len(x)\n",
        "\n",
        "def extract_tonal_words(texts, proba_predictor, threshold=0.7, seq_len=3, criterion=\"min\"):\n",
        "    is_neg = []\n",
        "    is_pos = []\n",
        "    for text in data:\n",
        "        for sent in text:\n",
        "            for ind, word in enumerate(sent):\n",
        "                seqs = [sent[i:i+seq_len] for i in range(ind-seq_len-1,ind)]\n",
        "                seqs = [\" \".join(seq) for seq in seqs]\n",
        "                probas = proba_predictor(seqs)\n",
        "                neg_probas = [i[0] for i in probas]\n",
        "                pos_probas = [i[1] for i in probas]\n",
        "                \n",
        "                if criterion == \"max\":\n",
        "                    neg_proba, pos_proba = max(neg_probas), max(pos_probas)\n",
        "                elif criterion == 'min':\n",
        "                    neg_proba, pos_proba = min(neg_probas), min(pos_probas)\n",
        "                elif criterion == 'avg':\n",
        "                    neg_proba, pos_proba = avg(neg_probas), avg(pos_probas)\n",
        "                else:\n",
        "                    raise Exception\n",
        "                \n",
        "                if neg_proba > threshold:\n",
        "                    is_neg.append(1)\n",
        "                else:\n",
        "                    is_neg.append(0)\n",
        "                \n",
        "                if pos_proba > threshold:\n",
        "                    is_pos.append(1)\n",
        "                else:\n",
        "                    is_pos.append(0)\n",
        "            \n",
        "    return is_pos, is_neg"
      ],
      "execution_count": 0,
      "outputs": []
    },
    {
      "cell_type": "markdown",
      "metadata": {
        "id": "w-EguyRwMhaK",
        "colab_type": "text"
      },
      "source": [
        "Подберём наилучшие праметры для предложенного нами алгоритма (порог, длину последовательности, критерий):"
      ]
    },
    {
      "cell_type": "code",
      "metadata": {
        "id": "JdJgD4pdMhaM",
        "colab_type": "code",
        "colab": {}
      },
      "source": [
        "food_predictor = lambda x: predict_text_proba(x, clf=clf_food, vectorizer=vectorizer)"
      ],
      "execution_count": 0,
      "outputs": []
    },
    {
      "cell_type": "code",
      "metadata": {
        "id": "jqfuKmhLWz9S",
        "colab_type": "code",
        "colab": {}
      },
      "source": [
        "food_pos_pred, food_neg_pred = extract_tonal_words(data, food_predictor, threshold=0.99)"
      ],
      "execution_count": 0,
      "outputs": []
    },
    {
      "cell_type": "code",
      "metadata": {
        "id": "2ngibuB6XMd3",
        "colab_type": "code",
        "colab": {}
      },
      "source": [
        "from sklearn.metrics import f1_score, accuracy_score"
      ],
      "execution_count": 0,
      "outputs": []
    },
    {
      "cell_type": "code",
      "metadata": {
        "id": "Z6pyPfauiriN",
        "colab_type": "code",
        "outputId": "604db4f6-aa0a-454a-e5db-4f38b73418dd",
        "colab": {
          "base_uri": "https://localhost:8080/",
          "height": 34
        }
      },
      "source": [
        "f1_score(food_pos, food_pos_pred)"
      ],
      "execution_count": 0,
      "outputs": [
        {
          "output_type": "execute_result",
          "data": {
            "text/plain": [
              "0.0"
            ]
          },
          "metadata": {
            "tags": []
          },
          "execution_count": 159
        }
      ]
    },
    {
      "cell_type": "code",
      "metadata": {
        "id": "H3uz1jxeixAn",
        "colab_type": "code",
        "outputId": "560a886c-049c-45b1-eb24-dfb83bdf264f",
        "colab": {
          "base_uri": "https://localhost:8080/",
          "height": 70
        }
      },
      "source": [
        "f1_score(food_neg, food_neg_pred)"
      ],
      "execution_count": 0,
      "outputs": [
        {
          "output_type": "stream",
          "text": [
            "/usr/local/lib/python3.6/dist-packages/sklearn/metrics/classification.py:1437: UndefinedMetricWarning: F-score is ill-defined and being set to 0.0 due to no predicted samples.\n",
            "  'precision', 'predicted', average, warn_for)\n"
          ],
          "name": "stderr"
        },
        {
          "output_type": "execute_result",
          "data": {
            "text/plain": [
              "0.0"
            ]
          },
          "metadata": {
            "tags": []
          },
          "execution_count": 160
        }
      ]
    },
    {
      "cell_type": "code",
      "metadata": {
        "id": "wIQHLCanXvxx",
        "colab_type": "code",
        "colab": {}
      },
      "source": [
        "from sklearn.model_selection import ParameterGrid"
      ],
      "execution_count": 0,
      "outputs": []
    },
    {
      "cell_type": "code",
      "metadata": {
        "id": "hj92u0OWY1Li",
        "colab_type": "code",
        "outputId": "de353552-fa9f-4add-c064-04470257c848",
        "colab": {
          "base_uri": "https://localhost:8080/",
          "height": 52
        }
      },
      "source": [
        "param_grid = {'threshold': [0.7, 0.75, 0.8, 0.85, 0.9, 0.95, 0.98, 0.99, 0.995],\n",
        "              'seq_len': [i for i in range(3, 11)],\n",
        "              'criterion': ['max', 'min', 'avg']}\n",
        "param_grid = ParameterGrid(param_grid)\n",
        "\n",
        "best_f1 = 0\n",
        "\n",
        "history = []\n",
        "\n",
        "best_params = None\n",
        "\n",
        "for param_dict in param_grid:\n",
        "  food_pos_pred, food_neg_pred = extract_tonal_words(data, food_predictor, **param_dict)\n",
        "  f1_pos = f1_score(food_pos, food_pos_pred)\n",
        "  f1_neg = f1_score(food_neg, food_neg_pred)\n",
        "  f1 = (f1_pos + f1_neg)/2\n",
        "  history.append((f1_pos, f1_neg, param_dict))\n",
        "  if f1 > best_f1:\n",
        "    best_f1 = f1\n",
        "    best_params = param_dict"
      ],
      "execution_count": 0,
      "outputs": [
        {
          "output_type": "stream",
          "text": [
            "/usr/local/lib/python3.6/dist-packages/sklearn/metrics/classification.py:1437: UndefinedMetricWarning: F-score is ill-defined and being set to 0.0 due to no predicted samples.\n",
            "  'precision', 'predicted', average, warn_for)\n"
          ],
          "name": "stderr"
        }
      ]
    },
    {
      "cell_type": "code",
      "metadata": {
        "id": "KRtMxRLKkI4Q",
        "colab_type": "code",
        "outputId": "ae516091-bdcd-4436-f68e-172e21c99de5",
        "colab": {
          "base_uri": "https://localhost:8080/",
          "height": 34
        }
      },
      "source": [
        "best_f1"
      ],
      "execution_count": 0,
      "outputs": [
        {
          "output_type": "execute_result",
          "data": {
            "text/plain": [
              "0.125"
            ]
          },
          "metadata": {
            "tags": []
          },
          "execution_count": 164
        }
      ]
    },
    {
      "cell_type": "code",
      "metadata": {
        "id": "NiRQVWs3kM80",
        "colab_type": "code",
        "outputId": "895065bb-4556-4c6c-8250-4babd851ff4c",
        "colab": {
          "base_uri": "https://localhost:8080/",
          "height": 34
        }
      },
      "source": [
        "best_params"
      ],
      "execution_count": 0,
      "outputs": [
        {
          "output_type": "execute_result",
          "data": {
            "text/plain": [
              "{'criterion': 'min', 'seq_len': 9, 'threshold': 0.75}"
            ]
          },
          "metadata": {
            "tags": []
          },
          "execution_count": 165
        }
      ]
    },
    {
      "cell_type": "code",
      "metadata": {
        "id": "YTgfWHabkUcE",
        "colab_type": "code",
        "colab": {}
      },
      "source": [
        "food_pos_pred, food_neg_pred = extract_tonal_words(data, food_predictor, **best_params)"
      ],
      "execution_count": 0,
      "outputs": []
    },
    {
      "cell_type": "code",
      "metadata": {
        "id": "eGah7838lvFb",
        "colab_type": "code",
        "outputId": "cbf24b1b-8699-4f32-bb4f-ad8540db93c0",
        "colab": {
          "base_uri": "https://localhost:8080/",
          "height": 34
        }
      },
      "source": [
        "f1_score(food_pos, food_pos_pred)"
      ],
      "execution_count": 0,
      "outputs": [
        {
          "output_type": "execute_result",
          "data": {
            "text/plain": [
              "0.02777777777777778"
            ]
          },
          "metadata": {
            "tags": []
          },
          "execution_count": 168
        }
      ]
    },
    {
      "cell_type": "code",
      "metadata": {
        "id": "JXMLPKGRmBmr",
        "colab_type": "code",
        "outputId": "799b7844-08a6-4bcc-c437-ab90b3dfbecb",
        "colab": {
          "base_uri": "https://localhost:8080/",
          "height": 34
        }
      },
      "source": [
        "f1_score(food_neg, food_neg_pred)"
      ],
      "execution_count": 0,
      "outputs": [
        {
          "output_type": "execute_result",
          "data": {
            "text/plain": [
              "0.2222222222222222"
            ]
          },
          "metadata": {
            "tags": []
          },
          "execution_count": 169
        }
      ]
    },
    {
      "cell_type": "code",
      "metadata": {
        "id": "Dm4u97A5tgId",
        "colab_type": "code",
        "outputId": "38dca14f-6824-429f-92fa-9c7e0ddff805",
        "colab": {
          "base_uri": "https://localhost:8080/",
          "height": 1000
        }
      },
      "source": [
        "history"
      ],
      "execution_count": 0,
      "outputs": [
        {
          "output_type": "execute_result",
          "data": {
            "text/plain": [
              "[(0.015088013411567479,\n",
              "  0.004878048780487805,\n",
              "  {'criterion': 'max', 'seq_len': 3, 'threshold': 0.7}),\n",
              " (0.016981132075471694,\n",
              "  0.006688963210702341,\n",
              "  {'criterion': 'max', 'seq_len': 3, 'threshold': 0.75}),\n",
              " (0.01756311745334797,\n",
              "  0.00881057268722467,\n",
              "  {'criterion': 'max', 'seq_len': 3, 'threshold': 0.8}),\n",
              " (0.018205461638491547,\n",
              "  0.0,\n",
              "  {'criterion': 'max', 'seq_len': 3, 'threshold': 0.85}),\n",
              " (0.016556291390728478,\n",
              "  0.0,\n",
              "  {'criterion': 'max', 'seq_len': 3, 'threshold': 0.9}),\n",
              " (0.026595744680851064,\n",
              "  0.0,\n",
              "  {'criterion': 'max', 'seq_len': 3, 'threshold': 0.95}),\n",
              " (0.019230769230769232,\n",
              "  0.0,\n",
              "  {'criterion': 'max', 'seq_len': 3, 'threshold': 0.98}),\n",
              " (0.027586206896551724,\n",
              "  0.0,\n",
              "  {'criterion': 'max', 'seq_len': 3, 'threshold': 0.99}),\n",
              " (0.037735849056603765,\n",
              "  0.0,\n",
              "  {'criterion': 'max', 'seq_len': 3, 'threshold': 0.995}),\n",
              " (0.014754098360655735,\n",
              "  0.005154639175257732,\n",
              "  {'criterion': 'max', 'seq_len': 4, 'threshold': 0.7}),\n",
              " (0.01646843549862763,\n",
              "  0.006968641114982579,\n",
              "  {'criterion': 'max', 'seq_len': 4, 'threshold': 0.75}),\n",
              " (0.016494845360824743,\n",
              "  0.009999999999999998,\n",
              "  {'criterion': 'max', 'seq_len': 4, 'threshold': 0.8}),\n",
              " (0.01977750309023486,\n",
              "  0.0,\n",
              "  {'criterion': 'max', 'seq_len': 4, 'threshold': 0.85}),\n",
              " (0.021671826625387,\n",
              "  0.0,\n",
              "  {'criterion': 'max', 'seq_len': 4, 'threshold': 0.9}),\n",
              " (0.02557544757033248,\n",
              "  0.0,\n",
              "  {'criterion': 'max', 'seq_len': 4, 'threshold': 0.95}),\n",
              " (0.029999999999999995,\n",
              "  0.0,\n",
              "  {'criterion': 'max', 'seq_len': 4, 'threshold': 0.98}),\n",
              " (0.04195804195804195,\n",
              "  0.0,\n",
              "  {'criterion': 'max', 'seq_len': 4, 'threshold': 0.99}),\n",
              " (0.05042016806722689,\n",
              "  0.0,\n",
              "  {'criterion': 'max', 'seq_len': 4, 'threshold': 0.995}),\n",
              " (0.014693877551020407,\n",
              "  0.010471204188481676,\n",
              "  {'criterion': 'max', 'seq_len': 5, 'threshold': 0.7}),\n",
              " (0.015789473684210527,\n",
              "  0.014760147601476014,\n",
              "  {'criterion': 'max', 'seq_len': 5, 'threshold': 0.75}),\n",
              " (0.01791044776119403,\n",
              "  0.021052631578947368,\n",
              "  {'criterion': 'max', 'seq_len': 5, 'threshold': 0.8}),\n",
              " (0.019002375296912115,\n",
              "  0.02564102564102564,\n",
              "  {'criterion': 'max', 'seq_len': 5, 'threshold': 0.85}),\n",
              " (0.02523659305993691,\n",
              "  0.0,\n",
              "  {'criterion': 'max', 'seq_len': 5, 'threshold': 0.9}),\n",
              " (0.03076923076923077,\n",
              "  0.0,\n",
              "  {'criterion': 'max', 'seq_len': 5, 'threshold': 0.95}),\n",
              " (0.03773584905660378,\n",
              "  0.0,\n",
              "  {'criterion': 'max', 'seq_len': 5, 'threshold': 0.98}),\n",
              " (0.037500000000000006,\n",
              "  0.0,\n",
              "  {'criterion': 'max', 'seq_len': 5, 'threshold': 0.99}),\n",
              " (0.034782608695652174,\n",
              "  0.0,\n",
              "  {'criterion': 'max', 'seq_len': 5, 'threshold': 0.995}),\n",
              " (0.014285714285714287,\n",
              "  0.00554016620498615,\n",
              "  {'criterion': 'max', 'seq_len': 6, 'threshold': 0.7}),\n",
              " (0.01566579634464752,\n",
              "  0.007692307692307693,\n",
              "  {'criterion': 'max', 'seq_len': 6, 'threshold': 0.75}),\n",
              " (0.01829268292682927,\n",
              "  0.011049723756906077,\n",
              "  {'criterion': 'max', 'seq_len': 6, 'threshold': 0.8}),\n",
              " (0.01652892561983471,\n",
              "  0.01515151515151515,\n",
              "  {'criterion': 'max', 'seq_len': 6, 'threshold': 0.85}),\n",
              " (0.02177293934681182,\n",
              "  0.018691588785046728,\n",
              "  {'criterion': 'max', 'seq_len': 6, 'threshold': 0.9}),\n",
              " (0.024630541871921187,\n",
              "  0.0,\n",
              "  {'criterion': 'max', 'seq_len': 6, 'threshold': 0.95}),\n",
              " (0.03292181069958848,\n",
              "  0.0,\n",
              "  {'criterion': 'max', 'seq_len': 6, 'threshold': 0.98}),\n",
              " (0.022346368715083796,\n",
              "  0.0,\n",
              "  {'criterion': 'max', 'seq_len': 6, 'threshold': 0.99}),\n",
              " (0.02962962962962963,\n",
              "  0.0,\n",
              "  {'criterion': 'max', 'seq_len': 6, 'threshold': 0.995}),\n",
              " (0.014040561622464899,\n",
              "  0.011730205278592374,\n",
              "  {'criterion': 'max', 'seq_len': 7, 'threshold': 0.7}),\n",
              " (0.015570934256055364,\n",
              "  0.014336917562724014,\n",
              "  {'criterion': 'max', 'seq_len': 7, 'threshold': 0.75}),\n",
              " (0.018018018018018018,\n",
              "  0.010752688172043012,\n",
              "  {'criterion': 'max', 'seq_len': 7, 'threshold': 0.8}),\n",
              " (0.019024970273483953,\n",
              "  0.013888888888888888,\n",
              "  {'criterion': 'max', 'seq_len': 7, 'threshold': 0.85}),\n",
              " (0.018099547511312215,\n",
              "  0.016393442622950817,\n",
              "  {'criterion': 'max', 'seq_len': 7, 'threshold': 0.9}),\n",
              " (0.023474178403755867,\n",
              "  0.03636363636363637,\n",
              "  {'criterion': 'max', 'seq_len': 7, 'threshold': 0.95}),\n",
              " (0.04016064257028112,\n",
              "  0.0,\n",
              "  {'criterion': 'max', 'seq_len': 7, 'threshold': 0.98}),\n",
              " (0.031088082901554404,\n",
              "  0.0,\n",
              "  {'criterion': 'max', 'seq_len': 7, 'threshold': 0.99}),\n",
              " (0.02857142857142857,\n",
              "  0.0,\n",
              "  {'criterion': 'max', 'seq_len': 7, 'threshold': 0.995}),\n",
              " (0.014162077104642014,\n",
              "  0.00606060606060606,\n",
              "  {'criterion': 'max', 'seq_len': 8, 'threshold': 0.7}),\n",
              " (0.015652173913043476,\n",
              "  0.007575757575757576,\n",
              "  {'criterion': 'max', 'seq_len': 8, 'threshold': 0.75}),\n",
              " (0.01545893719806763,\n",
              "  0.010928961748633882,\n",
              "  {'criterion': 'max', 'seq_len': 8, 'threshold': 0.8}),\n",
              " (0.018757327080890975,\n",
              "  0.013793103448275864,\n",
              "  {'criterion': 'max', 'seq_len': 8, 'threshold': 0.85}),\n",
              " (0.018099547511312215,\n",
              "  0.017241379310344827,\n",
              "  {'criterion': 'max', 'seq_len': 8, 'threshold': 0.9}),\n",
              " (0.022222222222222223,\n",
              "  0.04081632653061224,\n",
              "  {'criterion': 'max', 'seq_len': 8, 'threshold': 0.95}),\n",
              " (0.029850746268656716,\n",
              "  0.0,\n",
              "  {'criterion': 'max', 'seq_len': 8, 'threshold': 0.98}),\n",
              " (0.028708133971291863,\n",
              "  0.0,\n",
              "  {'criterion': 'max', 'seq_len': 8, 'threshold': 0.99}),\n",
              " (0.04137931034482759,\n",
              "  0.0,\n",
              "  {'criterion': 'max', 'seq_len': 8, 'threshold': 0.995}),\n",
              " (0.014040561622464899,\n",
              "  0.0058823529411764705,\n",
              "  {'criterion': 'max', 'seq_len': 9, 'threshold': 0.7}),\n",
              " (0.015570934256055364,\n",
              "  0.007092198581560284,\n",
              "  {'criterion': 'max', 'seq_len': 9, 'threshold': 0.75}),\n",
              " (0.017441860465116282,\n",
              "  0.010101010101010102,\n",
              "  {'criterion': 'max', 'seq_len': 9, 'threshold': 0.8}),\n",
              " (0.020247469066366704,\n",
              "  0.01360544217687075,\n",
              "  {'criterion': 'max', 'seq_len': 9, 'threshold': 0.85}),\n",
              " (0.0206794682422452,\n",
              "  0.018518518518518517,\n",
              "  {'criterion': 'max', 'seq_len': 9, 'threshold': 0.9}),\n",
              " (0.024439918533604887,\n",
              "  0.03389830508474576,\n",
              "  {'criterion': 'max', 'seq_len': 9, 'threshold': 0.95}),\n",
              " (0.030418250950570342,\n",
              "  0.0,\n",
              "  {'criterion': 'max', 'seq_len': 9, 'threshold': 0.98}),\n",
              " (0.0273972602739726,\n",
              "  0.0,\n",
              "  {'criterion': 'max', 'seq_len': 9, 'threshold': 0.99}),\n",
              " (0.039473684210526314,\n",
              "  0.0,\n",
              "  {'criterion': 'max', 'seq_len': 9, 'threshold': 0.995}),\n",
              " (0.013605442176870748,\n",
              "  0.005361930294906166,\n",
              "  {'criterion': 'max', 'seq_len': 10, 'threshold': 0.7}),\n",
              " (0.01498751040799334,\n",
              "  0.006430868167202573,\n",
              "  {'criterion': 'max', 'seq_len': 10, 'threshold': 0.75}),\n",
              " (0.0167910447761194,\n",
              "  0.009345794392523366,\n",
              "  {'criterion': 'max', 'seq_len': 10, 'threshold': 0.8}),\n",
              " (0.020713463751438434,\n",
              "  0.0125,\n",
              "  {'criterion': 'max', 'seq_len': 10, 'threshold': 0.85}),\n",
              " (0.020527859237536656,\n",
              "  0.017391304347826087,\n",
              "  {'criterion': 'max', 'seq_len': 10, 'threshold': 0.9}),\n",
              " (0.024439918533604887,\n",
              "  0.027027027027027032,\n",
              "  {'criterion': 'max', 'seq_len': 10, 'threshold': 0.95}),\n",
              " (0.029629629629629627,\n",
              "  0.0,\n",
              "  {'criterion': 'max', 'seq_len': 10, 'threshold': 0.98}),\n",
              " (0.02542372881355932,\n",
              "  0.0,\n",
              "  {'criterion': 'max', 'seq_len': 10, 'threshold': 0.99}),\n",
              " (0.037500000000000006,\n",
              "  0.0,\n",
              "  {'criterion': 'max', 'seq_len': 10, 'threshold': 0.995}),\n",
              " (0.021818181818181816,\n",
              "  0.0,\n",
              "  {'criterion': 'min', 'seq_len': 3, 'threshold': 0.7}),\n",
              " (0.028708133971291863,\n",
              "  0.0,\n",
              "  {'criterion': 'min', 'seq_len': 3, 'threshold': 0.75}),\n",
              " (0.044444444444444446,\n",
              "  0.0,\n",
              "  {'criterion': 'min', 'seq_len': 3, 'threshold': 0.8}),\n",
              " (0.05405405405405406,\n",
              "  0.0,\n",
              "  {'criterion': 'min', 'seq_len': 3, 'threshold': 0.85}),\n",
              " (0.0, 0.0, {'criterion': 'min', 'seq_len': 3, 'threshold': 0.9}),\n",
              " (0.0, 0.0, {'criterion': 'min', 'seq_len': 3, 'threshold': 0.95}),\n",
              " (0.0, 0.0, {'criterion': 'min', 'seq_len': 3, 'threshold': 0.98}),\n",
              " (0.0, 0.0, {'criterion': 'min', 'seq_len': 3, 'threshold': 0.99}),\n",
              " (0.0, 0.0, {'criterion': 'min', 'seq_len': 3, 'threshold': 0.995}),\n",
              " (0.02553191489361702,\n",
              "  0.0,\n",
              "  {'criterion': 'min', 'seq_len': 4, 'threshold': 0.7}),\n",
              " (0.020942408376963352,\n",
              "  0.0,\n",
              "  {'criterion': 'min', 'seq_len': 4, 'threshold': 0.75}),\n",
              " (0.02962962962962963,\n",
              "  0.0,\n",
              "  {'criterion': 'min', 'seq_len': 4, 'threshold': 0.8}),\n",
              " (0.02197802197802198,\n",
              "  0.0,\n",
              "  {'criterion': 'min', 'seq_len': 4, 'threshold': 0.85}),\n",
              " (0.0, 0.0, {'criterion': 'min', 'seq_len': 4, 'threshold': 0.9}),\n",
              " (0.0, 0.0, {'criterion': 'min', 'seq_len': 4, 'threshold': 0.95}),\n",
              " (0.0, 0.0, {'criterion': 'min', 'seq_len': 4, 'threshold': 0.98}),\n",
              " (0.0, 0.0, {'criterion': 'min', 'seq_len': 4, 'threshold': 0.99}),\n",
              " (0.0, 0.0, {'criterion': 'min', 'seq_len': 4, 'threshold': 0.995}),\n",
              " (0.02390438247011952,\n",
              "  0.0,\n",
              "  {'criterion': 'min', 'seq_len': 5, 'threshold': 0.7}),\n",
              " (0.018691588785046728,\n",
              "  0.0,\n",
              "  {'criterion': 'min', 'seq_len': 5, 'threshold': 0.75}),\n",
              " (0.012903225806451613,\n",
              "  0.0,\n",
              "  {'criterion': 'min', 'seq_len': 5, 'threshold': 0.8}),\n",
              " (0.0, 0.0, {'criterion': 'min', 'seq_len': 5, 'threshold': 0.85}),\n",
              " (0.0, 0.0, {'criterion': 'min', 'seq_len': 5, 'threshold': 0.9}),\n",
              " (0.0, 0.0, {'criterion': 'min', 'seq_len': 5, 'threshold': 0.95}),\n",
              " (0.0, 0.0, {'criterion': 'min', 'seq_len': 5, 'threshold': 0.98}),\n",
              " (0.0, 0.0, {'criterion': 'min', 'seq_len': 5, 'threshold': 0.99}),\n",
              " (0.0, 0.0, {'criterion': 'min', 'seq_len': 5, 'threshold': 0.995}),\n",
              " (0.016736401673640166,\n",
              "  0.14285714285714288,\n",
              "  {'criterion': 'min', 'seq_len': 6, 'threshold': 0.7}),\n",
              " (0.010526315789473684,\n",
              "  0.14285714285714288,\n",
              "  {'criterion': 'min', 'seq_len': 6, 'threshold': 0.75}),\n",
              " (0.0, 0.0, {'criterion': 'min', 'seq_len': 6, 'threshold': 0.8}),\n",
              " (0.0, 0.0, {'criterion': 'min', 'seq_len': 6, 'threshold': 0.85}),\n",
              " (0.0, 0.0, {'criterion': 'min', 'seq_len': 6, 'threshold': 0.9}),\n",
              " (0.0, 0.0, {'criterion': 'min', 'seq_len': 6, 'threshold': 0.95}),\n",
              " (0.0, 0.0, {'criterion': 'min', 'seq_len': 6, 'threshold': 0.98}),\n",
              " (0.0, 0.0, {'criterion': 'min', 'seq_len': 6, 'threshold': 0.99}),\n",
              " (0.0, 0.0, {'criterion': 'min', 'seq_len': 6, 'threshold': 0.995}),\n",
              " (0.025862068965517244,\n",
              "  0.18181818181818182,\n",
              "  {'criterion': 'min', 'seq_len': 7, 'threshold': 0.7}),\n",
              " (0.011764705882352941,\n",
              "  0.18181818181818182,\n",
              "  {'criterion': 'min', 'seq_len': 7, 'threshold': 0.75}),\n",
              " (0.0,\n",
              "  0.18181818181818182,\n",
              "  {'criterion': 'min', 'seq_len': 7, 'threshold': 0.8}),\n",
              " (0.0, 0.0, {'criterion': 'min', 'seq_len': 7, 'threshold': 0.85}),\n",
              " (0.0, 0.0, {'criterion': 'min', 'seq_len': 7, 'threshold': 0.9}),\n",
              " (0.0, 0.0, {'criterion': 'min', 'seq_len': 7, 'threshold': 0.95}),\n",
              " (0.0, 0.0, {'criterion': 'min', 'seq_len': 7, 'threshold': 0.98}),\n",
              " (0.0, 0.0, {'criterion': 'min', 'seq_len': 7, 'threshold': 0.99}),\n",
              " (0.0, 0.0, {'criterion': 'min', 'seq_len': 7, 'threshold': 0.995}),\n",
              " (0.030612244897959186,\n",
              "  0.09090909090909091,\n",
              "  {'criterion': 'min', 'seq_len': 8, 'threshold': 0.7}),\n",
              " (0.03773584905660377,\n",
              "  0.2,\n",
              "  {'criterion': 'min', 'seq_len': 8, 'threshold': 0.75}),\n",
              " (0.0,\n",
              "  0.2222222222222222,\n",
              "  {'criterion': 'min', 'seq_len': 8, 'threshold': 0.8}),\n",
              " (0.0, 0.0, {'criterion': 'min', 'seq_len': 8, 'threshold': 0.85}),\n",
              " (0.0, 0.0, {'criterion': 'min', 'seq_len': 8, 'threshold': 0.9}),\n",
              " (0.0, 0.0, {'criterion': 'min', 'seq_len': 8, 'threshold': 0.95}),\n",
              " (0.0, 0.0, {'criterion': 'min', 'seq_len': 8, 'threshold': 0.98}),\n",
              " (0.0, 0.0, {'criterion': 'min', 'seq_len': 8, 'threshold': 0.99}),\n",
              " (0.0, 0.0, {'criterion': 'min', 'seq_len': 8, 'threshold': 0.995}),\n",
              " (0.023529411764705882,\n",
              "  0.09523809523809525,\n",
              "  {'criterion': 'min', 'seq_len': 9, 'threshold': 0.7}),\n",
              " (0.02777777777777778,\n",
              "  0.2222222222222222,\n",
              "  {'criterion': 'min', 'seq_len': 9, 'threshold': 0.75}),\n",
              " (0.0,\n",
              "  0.2222222222222222,\n",
              "  {'criterion': 'min', 'seq_len': 9, 'threshold': 0.8}),\n",
              " (0.0, 0.0, {'criterion': 'min', 'seq_len': 9, 'threshold': 0.85}),\n",
              " (0.0, 0.0, {'criterion': 'min', 'seq_len': 9, 'threshold': 0.9}),\n",
              " (0.0, 0.0, {'criterion': 'min', 'seq_len': 9, 'threshold': 0.95}),\n",
              " (0.0, 0.0, {'criterion': 'min', 'seq_len': 9, 'threshold': 0.98}),\n",
              " (0.0, 0.0, {'criterion': 'min', 'seq_len': 9, 'threshold': 0.99}),\n",
              " (0.0, 0.0, {'criterion': 'min', 'seq_len': 9, 'threshold': 0.995}),\n",
              " (0.0,\n",
              "  0.10526315789473684,\n",
              "  {'criterion': 'min', 'seq_len': 10, 'threshold': 0.7}),\n",
              " (0.0,\n",
              "  0.15384615384615383,\n",
              "  {'criterion': 'min', 'seq_len': 10, 'threshold': 0.75}),\n",
              " (0.0,\n",
              "  0.16666666666666666,\n",
              "  {'criterion': 'min', 'seq_len': 10, 'threshold': 0.8}),\n",
              " (0.0, 0.0, {'criterion': 'min', 'seq_len': 10, 'threshold': 0.85}),\n",
              " (0.0, 0.0, {'criterion': 'min', 'seq_len': 10, 'threshold': 0.9}),\n",
              " (0.0, 0.0, {'criterion': 'min', 'seq_len': 10, 'threshold': 0.95}),\n",
              " (0.0, 0.0, {'criterion': 'min', 'seq_len': 10, 'threshold': 0.98}),\n",
              " (0.0, 0.0, {'criterion': 'min', 'seq_len': 10, 'threshold': 0.99}),\n",
              " (0.0, 0.0, {'criterion': 'min', 'seq_len': 10, 'threshold': 0.995}),\n",
              " (0.014450867052023123,\n",
              "  0.02631578947368421,\n",
              "  {'criterion': 'avg', 'seq_len': 3, 'threshold': 0.7}),\n",
              " (0.011764705882352941,\n",
              "  0.0392156862745098,\n",
              "  {'criterion': 'avg', 'seq_len': 3, 'threshold': 0.75}),\n",
              " (0.01630434782608696,\n",
              "  0.0,\n",
              "  {'criterion': 'avg', 'seq_len': 3, 'threshold': 0.8}),\n",
              " (0.02608695652173913,\n",
              "  0.0,\n",
              "  {'criterion': 'avg', 'seq_len': 3, 'threshold': 0.85}),\n",
              " (0.034188034188034185,\n",
              "  0.0,\n",
              "  {'criterion': 'avg', 'seq_len': 3, 'threshold': 0.9}),\n",
              " (0.0, 0.0, {'criterion': 'avg', 'seq_len': 3, 'threshold': 0.95}),\n",
              " (0.0, 0.0, {'criterion': 'avg', 'seq_len': 3, 'threshold': 0.98}),\n",
              " (0.0, 0.0, {'criterion': 'avg', 'seq_len': 3, 'threshold': 0.99}),\n",
              " (0.0, 0.0, {'criterion': 'avg', 'seq_len': 3, 'threshold': 0.995}),\n",
              " (0.014285714285714284,\n",
              "  0.02631578947368421,\n",
              "  {'criterion': 'avg', 'seq_len': 4, 'threshold': 0.7}),\n",
              " (0.011450381679389313,\n",
              "  0.03508771929824561,\n",
              "  {'criterion': 'avg', 'seq_len': 4, 'threshold': 0.75}),\n",
              " (0.016172506738544475,\n",
              "  0.0,\n",
              "  {'criterion': 'avg', 'seq_len': 4, 'threshold': 0.8}),\n",
              " (0.024096385542168676,\n",
              "  0.0,\n",
              "  {'criterion': 'avg', 'seq_len': 4, 'threshold': 0.85}),\n",
              " (0.04054054054054055,\n",
              "  0.0,\n",
              "  {'criterion': 'avg', 'seq_len': 4, 'threshold': 0.9}),\n",
              " (0.0, 0.0, {'criterion': 'avg', 'seq_len': 4, 'threshold': 0.95}),\n",
              " (0.0, 0.0, {'criterion': 'avg', 'seq_len': 4, 'threshold': 0.98}),\n",
              " (0.0, 0.0, {'criterion': 'avg', 'seq_len': 4, 'threshold': 0.99}),\n",
              " (0.0, 0.0, {'criterion': 'avg', 'seq_len': 4, 'threshold': 0.995}),\n",
              " (0.014727540500736377,\n",
              "  0.0273972602739726,\n",
              "  {'criterion': 'avg', 'seq_len': 5, 'threshold': 0.7}),\n",
              " (0.018867924528301883,\n",
              "  0.03389830508474576,\n",
              "  {'criterion': 'avg', 'seq_len': 5, 'threshold': 0.75}),\n",
              " (0.026809651474530835,\n",
              "  0.0,\n",
              "  {'criterion': 'avg', 'seq_len': 5, 'threshold': 0.8}),\n",
              " (0.02255639097744361,\n",
              "  0.0,\n",
              "  {'criterion': 'avg', 'seq_len': 5, 'threshold': 0.85}),\n",
              " (0.0392156862745098,\n",
              "  0.0,\n",
              "  {'criterion': 'avg', 'seq_len': 5, 'threshold': 0.9}),\n",
              " (0.031746031746031744,\n",
              "  0.0,\n",
              "  {'criterion': 'avg', 'seq_len': 5, 'threshold': 0.95}),\n",
              " (0.0, 0.0, {'criterion': 'avg', 'seq_len': 5, 'threshold': 0.98}),\n",
              " (0.0, 0.0, {'criterion': 'avg', 'seq_len': 5, 'threshold': 0.99}),\n",
              " (0.0, 0.0, {'criterion': 'avg', 'seq_len': 5, 'threshold': 0.995}),\n",
              " (0.01756954612005857,\n",
              "  0.028169014084507043,\n",
              "  {'criterion': 'avg', 'seq_len': 6, 'threshold': 0.7}),\n",
              " (0.019193857965451054,\n",
              "  0.0392156862745098,\n",
              "  {'criterion': 'avg', 'seq_len': 6, 'threshold': 0.75}),\n",
              " (0.02604166666666667,\n",
              "  0.06666666666666667,\n",
              "  {'criterion': 'avg', 'seq_len': 6, 'threshold': 0.8}),\n",
              " (0.030769230769230767,\n",
              "  0.0,\n",
              "  {'criterion': 'avg', 'seq_len': 6, 'threshold': 0.85}),\n",
              " (0.026143790849673203,\n",
              "  0.0,\n",
              "  {'criterion': 'avg', 'seq_len': 6, 'threshold': 0.9}),\n",
              " (0.030303030303030304,\n",
              "  0.0,\n",
              "  {'criterion': 'avg', 'seq_len': 6, 'threshold': 0.95}),\n",
              " (0.0, 0.0, {'criterion': 'avg', 'seq_len': 6, 'threshold': 0.98}),\n",
              " (0.0, 0.0, {'criterion': 'avg', 'seq_len': 6, 'threshold': 0.99}),\n",
              " (0.0, 0.0, {'criterion': 'avg', 'seq_len': 6, 'threshold': 0.995}),\n",
              " (0.017830609212481426,\n",
              "  0.031746031746031744,\n",
              "  {'criterion': 'avg', 'seq_len': 7, 'threshold': 0.7}),\n",
              " (0.019011406844106467,\n",
              "  0.04166666666666667,\n",
              "  {'criterion': 'avg', 'seq_len': 7, 'threshold': 0.75}),\n",
              " (0.02481389578163772,\n",
              "  0.07142857142857142,\n",
              "  {'criterion': 'avg', 'seq_len': 7, 'threshold': 0.8}),\n",
              " (0.03065134099616858,\n",
              "  0.10526315789473684,\n",
              "  {'criterion': 'avg', 'seq_len': 7, 'threshold': 0.85}),\n",
              " (0.025477707006369428,\n",
              "  0.0,\n",
              "  {'criterion': 'avg', 'seq_len': 7, 'threshold': 0.9}),\n",
              " (0.029850746268656716,\n",
              "  0.0,\n",
              "  {'criterion': 'avg', 'seq_len': 7, 'threshold': 0.95}),\n",
              " (0.0, 0.0, {'criterion': 'avg', 'seq_len': 7, 'threshold': 0.98}),\n",
              " (0.0, 0.0, {'criterion': 'avg', 'seq_len': 7, 'threshold': 0.99}),\n",
              " (0.0, 0.0, {'criterion': 'avg', 'seq_len': 7, 'threshold': 0.995}),\n",
              " (0.017991004497751123,\n",
              "  0.03333333333333333,\n",
              "  {'criterion': 'avg', 'seq_len': 8, 'threshold': 0.7}),\n",
              " (0.022770398481973434,\n",
              "  0.04347826086956522,\n",
              "  {'criterion': 'avg', 'seq_len': 8, 'threshold': 0.75}),\n",
              " (0.026109660574412528,\n",
              "  0.06451612903225806,\n",
              "  {'criterion': 'avg', 'seq_len': 8, 'threshold': 0.8}),\n",
              " (0.03125, 0.125, {'criterion': 'avg', 'seq_len': 8, 'threshold': 0.85}),\n",
              " (0.03797468354430379,\n",
              "  0.0,\n",
              "  {'criterion': 'avg', 'seq_len': 8, 'threshold': 0.9}),\n",
              " (0.02941176470588235,\n",
              "  0.0,\n",
              "  {'criterion': 'avg', 'seq_len': 8, 'threshold': 0.95}),\n",
              " (0.0, 0.0, {'criterion': 'avg', 'seq_len': 8, 'threshold': 0.98}),\n",
              " (0.0, 0.0, {'criterion': 'avg', 'seq_len': 8, 'threshold': 0.99}),\n",
              " (0.0, 0.0, {'criterion': 'avg', 'seq_len': 8, 'threshold': 0.995}),\n",
              " (0.017725258493353026,\n",
              "  0.03508771929824561,\n",
              "  {'criterion': 'avg', 'seq_len': 9, 'threshold': 0.7}),\n",
              " (0.023032629558541268,\n",
              "  0.05,\n",
              "  {'criterion': 'avg', 'seq_len': 9, 'threshold': 0.75}),\n",
              " (0.026881720430107527,\n",
              "  0.0625,\n",
              "  {'criterion': 'avg', 'seq_len': 9, 'threshold': 0.8}),\n",
              " (0.03162055335968379,\n",
              "  0.125,\n",
              "  {'criterion': 'avg', 'seq_len': 9, 'threshold': 0.85}),\n",
              " (0.03973509933774834,\n",
              "  0.0,\n",
              "  {'criterion': 'avg', 'seq_len': 9, 'threshold': 0.9}),\n",
              " (0.03076923076923077,\n",
              "  0.0,\n",
              "  {'criterion': 'avg', 'seq_len': 9, 'threshold': 0.95}),\n",
              " (0.0, 0.0, {'criterion': 'avg', 'seq_len': 9, 'threshold': 0.98}),\n",
              " (0.0, 0.0, {'criterion': 'avg', 'seq_len': 9, 'threshold': 0.99}),\n",
              " (0.0, 0.0, {'criterion': 'avg', 'seq_len': 9, 'threshold': 0.995}),\n",
              " (0.017416545718432513,\n",
              "  0.034482758620689655,\n",
              "  {'criterion': 'avg', 'seq_len': 10, 'threshold': 0.7}),\n",
              " (0.022770398481973434,\n",
              "  0.044444444444444446,\n",
              "  {'criterion': 'avg', 'seq_len': 10, 'threshold': 0.75}),\n",
              " (0.021798365122615806,\n",
              "  0.05714285714285714,\n",
              "  {'criterion': 'avg', 'seq_len': 10, 'threshold': 0.8}),\n",
              " (0.03225806451612903,\n",
              "  0.1111111111111111,\n",
              "  {'criterion': 'avg', 'seq_len': 10, 'threshold': 0.85}),\n",
              " (0.0410958904109589,\n",
              "  0.0,\n",
              "  {'criterion': 'avg', 'seq_len': 10, 'threshold': 0.9}),\n",
              " (0.0, 0.0, {'criterion': 'avg', 'seq_len': 10, 'threshold': 0.95}),\n",
              " (0.0, 0.0, {'criterion': 'avg', 'seq_len': 10, 'threshold': 0.98}),\n",
              " (0.0, 0.0, {'criterion': 'avg', 'seq_len': 10, 'threshold': 0.99}),\n",
              " (0.0, 0.0, {'criterion': 'avg', 'seq_len': 10, 'threshold': 0.995})]"
            ]
          },
          "metadata": {
            "tags": []
          },
          "execution_count": 170
        }
      ]
    },
    {
      "cell_type": "code",
      "metadata": {
        "id": "_l-w-o_xuDmQ",
        "colab_type": "code",
        "colab": {}
      },
      "source": [
        "service_predictor = lambda x: predict_text_proba(x, clf=clf_service, vectorizer=vectorizer)"
      ],
      "execution_count": 0,
      "outputs": []
    },
    {
      "cell_type": "code",
      "metadata": {
        "id": "ibBHFp1emJNn",
        "colab_type": "code",
        "outputId": "1a9ef1df-d564-4f9e-83a3-700452fbbe86",
        "colab": {
          "base_uri": "https://localhost:8080/",
          "height": 52
        }
      },
      "source": [
        "param_grid = {'threshold': [0.7, 0.75, 0.8, 0.85, 0.9, 0.95, 0.98, 0.99, 0.995],\n",
        "              'seq_len': [i for i in range(3, 11)],\n",
        "              'criterion': ['max', 'min', 'avg']}\n",
        "param_grid = ParameterGrid(param_grid)\n",
        "\n",
        "best_f1 = 0\n",
        "\n",
        "history_service = []\n",
        "\n",
        "best_params = None\n",
        "\n",
        "for param_dict in param_grid:\n",
        "  service_pos_pred, service_neg_pred = extract_tonal_words(data, service_predictor, **param_dict)\n",
        "  f1_pos = f1_score(service_pos, service_pos_pred)\n",
        "  f1_neg = f1_score(service_neg, service_neg_pred)\n",
        "  history_service.append((f1_pos, f1_neg, param_dict))\n",
        "  f1 = (f1_neg + f1_pos)/2\n",
        "  if f1 > best_f1:\n",
        "    best_f1 = f1\n",
        "    best_params = param_dict"
      ],
      "execution_count": 0,
      "outputs": [
        {
          "output_type": "stream",
          "text": [
            "/usr/local/lib/python3.6/dist-packages/sklearn/metrics/classification.py:1437: UndefinedMetricWarning: F-score is ill-defined and being set to 0.0 due to no predicted samples.\n",
            "  'precision', 'predicted', average, warn_for)\n"
          ],
          "name": "stderr"
        }
      ]
    },
    {
      "cell_type": "code",
      "metadata": {
        "id": "Wv4zp2uOvWqa",
        "colab_type": "code",
        "outputId": "c514dc77-bd18-4680-af13-cf240e40bd9e",
        "colab": {
          "base_uri": "https://localhost:8080/",
          "height": 34
        }
      },
      "source": [
        "best_f1, best_params"
      ],
      "execution_count": 0,
      "outputs": [
        {
          "output_type": "execute_result",
          "data": {
            "text/plain": [
              "(0.09090909090909091, {'criterion': 'min', 'seq_len': 6, 'threshold': 0.98})"
            ]
          },
          "metadata": {
            "tags": []
          },
          "execution_count": 176
        }
      ]
    },
    {
      "cell_type": "code",
      "metadata": {
        "id": "v7zftSiJvZYl",
        "colab_type": "code",
        "outputId": "b7d7f47b-eae7-4be2-b93c-02761488a021",
        "colab": {
          "base_uri": "https://localhost:8080/",
          "height": 1000
        }
      },
      "source": [
        "history_service"
      ],
      "execution_count": 0,
      "outputs": [
        {
          "output_type": "execute_result",
          "data": {
            "text/plain": [
              "[(0.011955593509820667,\n",
              "  0.021834061135371178,\n",
              "  {'criterion': 'max', 'seq_len': 3, 'threshold': 0.7}),\n",
              " (0.013245033112582783,\n",
              "  0.027472527472527472,\n",
              "  {'criterion': 'max', 'seq_len': 3, 'threshold': 0.75}),\n",
              " (0.015401540154015401,\n",
              "  0.03663003663003663,\n",
              "  {'criterion': 'max', 'seq_len': 3, 'threshold': 0.8}),\n",
              " (0.015325670498084292,\n",
              "  0.043859649122807015,\n",
              "  {'criterion': 'max', 'seq_len': 3, 'threshold': 0.85}),\n",
              " (0.015552099533437011,\n",
              "  0.05319148936170212,\n",
              "  {'criterion': 'max', 'seq_len': 3, 'threshold': 0.9}),\n",
              " (0.026178010471204192,\n",
              "  0.07766990291262134,\n",
              "  {'criterion': 'max', 'seq_len': 3, 'threshold': 0.95}),\n",
              " (0.034632034632034625,\n",
              "  0.09523809523809523,\n",
              "  {'criterion': 'max', 'seq_len': 3, 'threshold': 0.98}),\n",
              " (0.027777777777777776,\n",
              "  0.0,\n",
              "  {'criterion': 'max', 'seq_len': 3, 'threshold': 0.99}),\n",
              " (0.02531645569620253,\n",
              "  0.0,\n",
              "  {'criterion': 'max', 'seq_len': 3, 'threshold': 0.995}),\n",
              " (0.011824324324324325,\n",
              "  0.022172949002217297,\n",
              "  {'criterion': 'max', 'seq_len': 4, 'threshold': 0.7}),\n",
              " (0.013120899718837864,\n",
              "  0.028011204481792718,\n",
              "  {'criterion': 'max', 'seq_len': 4, 'threshold': 0.75}),\n",
              " (0.01276595744680851,\n",
              "  0.0348432055749129,\n",
              "  {'criterion': 'max', 'seq_len': 4, 'threshold': 0.8}),\n",
              " (0.015075376884422112,\n",
              "  0.044642857142857144,\n",
              "  {'criterion': 'max', 'seq_len': 4, 'threshold': 0.85}),\n",
              " (0.01213960546282246,\n",
              "  0.03370786516853932,\n",
              "  {'criterion': 'max', 'seq_len': 4, 'threshold': 0.9}),\n",
              " (0.019801980198019802,\n",
              "  0.06818181818181818,\n",
              "  {'criterion': 'max', 'seq_len': 4, 'threshold': 0.95}),\n",
              " (0.026315789473684213,\n",
              "  0.0425531914893617,\n",
              "  {'criterion': 'max', 'seq_len': 4, 'threshold': 0.98}),\n",
              " (0.04109589041095891,\n",
              "  0.0,\n",
              "  {'criterion': 'max', 'seq_len': 4, 'threshold': 0.99}),\n",
              " (0.0449438202247191,\n",
              "  0.0,\n",
              "  {'criterion': 'max', 'seq_len': 4, 'threshold': 0.995}),\n",
              " (0.011618257261410789,\n",
              "  0.014018691588785047,\n",
              "  {'criterion': 'max', 'seq_len': 5, 'threshold': 0.7}),\n",
              " (0.012820512820512822,\n",
              "  0.018292682926829267,\n",
              "  {'criterion': 'max', 'seq_len': 5, 'threshold': 0.75}),\n",
              " (0.012219959266802444,\n",
              "  0.020905923344947737,\n",
              "  {'criterion': 'max', 'seq_len': 5, 'threshold': 0.8}),\n",
              " (0.012004801920768308,\n",
              "  0.027397260273972608,\n",
              "  {'criterion': 'max', 'seq_len': 5, 'threshold': 0.85}),\n",
              " (0.014684287812041116,\n",
              "  0.03428571428571428,\n",
              "  {'criterion': 'max', 'seq_len': 5, 'threshold': 0.9}),\n",
              " (0.018604651162790697,\n",
              "  0.026666666666666665,\n",
              "  {'criterion': 'max', 'seq_len': 5, 'threshold': 0.95}),\n",
              " (0.016736401673640166,\n",
              "  0.04081632653061225,\n",
              "  {'criterion': 'max', 'seq_len': 5, 'threshold': 0.98}),\n",
              " (0.02580645161290323,\n",
              "  0.0,\n",
              "  {'criterion': 'max', 'seq_len': 5, 'threshold': 0.99}),\n",
              " (0.04040404040404041,\n",
              "  0.0,\n",
              "  {'criterion': 'max', 'seq_len': 5, 'threshold': 0.995}),\n",
              " (0.011579818031430935,\n",
              "  0.01485148514851485,\n",
              "  {'criterion': 'max', 'seq_len': 6, 'threshold': 0.7}),\n",
              " (0.0125,\n",
              "  0.01759530791788856,\n",
              "  {'criterion': 'max', 'seq_len': 6, 'threshold': 0.75}),\n",
              " (0.01201201201201201,\n",
              "  0.022058823529411763,\n",
              "  {'criterion': 'max', 'seq_len': 6, 'threshold': 0.8}),\n",
              " (0.012484394506866418,\n",
              "  0.00975609756097561,\n",
              "  {'criterion': 'max', 'seq_len': 6, 'threshold': 0.85}),\n",
              " (0.015220700152207002,\n",
              "  0.01360544217687075,\n",
              "  {'criterion': 'max', 'seq_len': 6, 'threshold': 0.9}),\n",
              " (0.017241379310344827,\n",
              "  0.024390243902439025,\n",
              "  {'criterion': 'max', 'seq_len': 6, 'threshold': 0.95}),\n",
              " (0.016260162601626015,\n",
              "  0.03636363636363636,\n",
              "  {'criterion': 'max', 'seq_len': 6, 'threshold': 0.98}),\n",
              " (0.022099447513812157,\n",
              "  0.0,\n",
              "  {'criterion': 'max', 'seq_len': 6, 'threshold': 0.99}),\n",
              " (0.037383177570093455,\n",
              "  0.0,\n",
              "  {'criterion': 'max', 'seq_len': 6, 'threshold': 0.995}),\n",
              " (0.011784511784511785,\n",
              "  0.013761467889908256,\n",
              "  {'criterion': 'max', 'seq_len': 7, 'threshold': 0.7}),\n",
              " (0.012601260126012601,\n",
              "  0.01652892561983471,\n",
              "  {'criterion': 'max', 'seq_len': 7, 'threshold': 0.75}),\n",
              " (0.011892963330029732,\n",
              "  0.022813688212927757,\n",
              "  {'criterion': 'max', 'seq_len': 7, 'threshold': 0.8}),\n",
              " (0.012195121951219513,\n",
              "  0.028436018957345974,\n",
              "  {'criterion': 'max', 'seq_len': 7, 'threshold': 0.85}),\n",
              " (0.014492753623188406,\n",
              "  0.0136986301369863,\n",
              "  {'criterion': 'max', 'seq_len': 7, 'threshold': 0.9}),\n",
              " (0.012958963282937365,\n",
              "  0.02247191011235955,\n",
              "  {'criterion': 'max', 'seq_len': 7, 'threshold': 0.95}),\n",
              " (0.016260162601626015,\n",
              "  0.0,\n",
              "  {'criterion': 'max', 'seq_len': 7, 'threshold': 0.98}),\n",
              " (0.019801980198019802,\n",
              "  0.0,\n",
              "  {'criterion': 'max', 'seq_len': 7, 'threshold': 0.99}),\n",
              " (0.01680672268907563,\n",
              "  0.0,\n",
              "  {'criterion': 'max', 'seq_len': 7, 'threshold': 0.995}),\n",
              " (0.011627906976744186,\n",
              "  0.013986013986013988,\n",
              "  {'criterion': 'max', 'seq_len': 8, 'threshold': 0.7}),\n",
              " (0.012533572068039392,\n",
              "  0.017341040462427747,\n",
              "  {'criterion': 'max', 'seq_len': 8, 'threshold': 0.75}),\n",
              " (0.013513513513513513,\n",
              "  0.02290076335877863,\n",
              "  {'criterion': 'max', 'seq_len': 8, 'threshold': 0.8}),\n",
              " (0.012360939431396786,\n",
              "  0.011428571428571429,\n",
              "  {'criterion': 'max', 'seq_len': 8, 'threshold': 0.85}),\n",
              " (0.014388489208633094,\n",
              "  0.014184397163120567,\n",
              "  {'criterion': 'max', 'seq_len': 8, 'threshold': 0.9}),\n",
              " (0.01642710472279261,\n",
              "  0.0,\n",
              "  {'criterion': 'max', 'seq_len': 8, 'threshold': 0.95}),\n",
              " (0.014545454545454545,\n",
              "  0.0,\n",
              "  {'criterion': 'max', 'seq_len': 8, 'threshold': 0.98}),\n",
              " (0.00980392156862745,\n",
              "  0.0,\n",
              "  {'criterion': 'max', 'seq_len': 8, 'threshold': 0.99}),\n",
              " (0.017094017094017092,\n",
              "  0.0,\n",
              "  {'criterion': 'max', 'seq_len': 8, 'threshold': 0.995}),\n",
              " (0.011155378486055776,\n",
              "  0.013071895424836602,\n",
              "  {'criterion': 'max', 'seq_len': 9, 'threshold': 0.7}),\n",
              " (0.01231310466138962,\n",
              "  0.01662049861495845,\n",
              "  {'criterion': 'max', 'seq_len': 9, 'threshold': 0.75}),\n",
              " (0.013513513513513513,\n",
              "  0.022641509433962266,\n",
              "  {'criterion': 'max', 'seq_len': 9, 'threshold': 0.8}),\n",
              " (0.014943960149439602,\n",
              "  0.009950248756218904,\n",
              "  {'criterion': 'max', 'seq_len': 9, 'threshold': 0.85}),\n",
              " (0.017167381974248927,\n",
              "  0.012738853503184712,\n",
              "  {'criterion': 'max', 'seq_len': 9, 'threshold': 0.9}),\n",
              " (0.020242914979757085,\n",
              "  0.0,\n",
              "  {'criterion': 'max', 'seq_len': 9, 'threshold': 0.95}),\n",
              " (0.020338983050847456,\n",
              "  0.0,\n",
              "  {'criterion': 'max', 'seq_len': 9, 'threshold': 0.98}),\n",
              " (0.010256410256410255,\n",
              "  0.0,\n",
              "  {'criterion': 'max', 'seq_len': 9, 'threshold': 0.99}),\n",
              " (0.015748031496062992,\n",
              "  0.0,\n",
              "  {'criterion': 'max', 'seq_len': 9, 'threshold': 0.995}),\n",
              " (0.01116427432216906,\n",
              "  0.012474012474012475,\n",
              "  {'criterion': 'max', 'seq_len': 10, 'threshold': 0.7}),\n",
              " (0.012269938650306747,\n",
              "  0.015113350125944582,\n",
              "  {'criterion': 'max', 'seq_len': 10, 'threshold': 0.75}),\n",
              " (0.013618677042801555,\n",
              "  0.020066889632107024,\n",
              "  {'criterion': 'max', 'seq_len': 10, 'threshold': 0.8}),\n",
              " (0.013856812933025405,\n",
              "  0.008333333333333333,\n",
              "  {'criterion': 'max', 'seq_len': 10, 'threshold': 0.85}),\n",
              " (0.017045454545454544,\n",
              "  0.009900990099009901,\n",
              "  {'criterion': 'max', 'seq_len': 10, 'threshold': 0.9}),\n",
              " (0.01879699248120301,\n",
              "  0.0,\n",
              "  {'criterion': 'max', 'seq_len': 10, 'threshold': 0.95}),\n",
              " (0.013513513513513513,\n",
              "  0.0,\n",
              "  {'criterion': 'max', 'seq_len': 10, 'threshold': 0.98}),\n",
              " (0.009950248756218905,\n",
              "  0.0,\n",
              "  {'criterion': 'max', 'seq_len': 10, 'threshold': 0.99}),\n",
              " (0.014388489208633094,\n",
              "  0.0,\n",
              "  {'criterion': 'max', 'seq_len': 10, 'threshold': 0.995}),\n",
              " (0.01444043321299639,\n",
              "  0.0,\n",
              "  {'criterion': 'min', 'seq_len': 3, 'threshold': 0.7}),\n",
              " (0.018018018018018018,\n",
              "  0.0,\n",
              "  {'criterion': 'min', 'seq_len': 3, 'threshold': 0.75}),\n",
              " (0.013888888888888888,\n",
              "  0.0,\n",
              "  {'criterion': 'min', 'seq_len': 3, 'threshold': 0.8}),\n",
              " (0.022222222222222223,\n",
              "  0.0,\n",
              "  {'criterion': 'min', 'seq_len': 3, 'threshold': 0.85}),\n",
              " (0.034482758620689655,\n",
              "  0.0,\n",
              "  {'criterion': 'min', 'seq_len': 3, 'threshold': 0.9}),\n",
              " (0.08695652173913043,\n",
              "  0.0,\n",
              "  {'criterion': 'min', 'seq_len': 3, 'threshold': 0.95}),\n",
              " (0.15384615384615383,\n",
              "  0.0,\n",
              "  {'criterion': 'min', 'seq_len': 3, 'threshold': 0.98}),\n",
              " (0.0, 0.0, {'criterion': 'min', 'seq_len': 3, 'threshold': 0.99}),\n",
              " (0.0, 0.0, {'criterion': 'min', 'seq_len': 3, 'threshold': 0.995}),\n",
              " (0.015151515151515154,\n",
              "  0.0,\n",
              "  {'criterion': 'min', 'seq_len': 4, 'threshold': 0.7}),\n",
              " (0.019138755980861243,\n",
              "  0.0,\n",
              "  {'criterion': 'min', 'seq_len': 4, 'threshold': 0.75}),\n",
              " (0.013071895424836602,\n",
              "  0.0,\n",
              "  {'criterion': 'min', 'seq_len': 4, 'threshold': 0.8}),\n",
              " (0.020202020202020204,\n",
              "  0.0,\n",
              "  {'criterion': 'min', 'seq_len': 4, 'threshold': 0.85}),\n",
              " (0.03125, 0.0, {'criterion': 'min', 'seq_len': 4, 'threshold': 0.9}),\n",
              " (0.08333333333333333,\n",
              "  0.0,\n",
              "  {'criterion': 'min', 'seq_len': 4, 'threshold': 0.95}),\n",
              " (0.0, 0.0, {'criterion': 'min', 'seq_len': 4, 'threshold': 0.98}),\n",
              " (0.0, 0.0, {'criterion': 'min', 'seq_len': 4, 'threshold': 0.99}),\n",
              " (0.0, 0.0, {'criterion': 'min', 'seq_len': 4, 'threshold': 0.995}),\n",
              " (0.01509433962264151,\n",
              "  0.0,\n",
              "  {'criterion': 'min', 'seq_len': 5, 'threshold': 0.7}),\n",
              " (0.01818181818181818,\n",
              "  0.0,\n",
              "  {'criterion': 'min', 'seq_len': 5, 'threshold': 0.75}),\n",
              " (0.014084507042253521,\n",
              "  0.0,\n",
              "  {'criterion': 'min', 'seq_len': 5, 'threshold': 0.8}),\n",
              " (0.021276595744680854,\n",
              "  0.0,\n",
              "  {'criterion': 'min', 'seq_len': 5, 'threshold': 0.85}),\n",
              " (0.03389830508474577,\n",
              "  0.0,\n",
              "  {'criterion': 'min', 'seq_len': 5, 'threshold': 0.9}),\n",
              " (0.07142857142857142,\n",
              "  0.0,\n",
              "  {'criterion': 'min', 'seq_len': 5, 'threshold': 0.95}),\n",
              " (0.0, 0.0, {'criterion': 'min', 'seq_len': 5, 'threshold': 0.98}),\n",
              " (0.0, 0.0, {'criterion': 'min', 'seq_len': 5, 'threshold': 0.99}),\n",
              " (0.0, 0.0, {'criterion': 'min', 'seq_len': 5, 'threshold': 0.995}),\n",
              " (0.016, 0.0, {'criterion': 'min', 'seq_len': 6, 'threshold': 0.7}),\n",
              " (0.01904761904761905,\n",
              "  0.0,\n",
              "  {'criterion': 'min', 'seq_len': 6, 'threshold': 0.75}),\n",
              " (0.014598540145985403,\n",
              "  0.0,\n",
              "  {'criterion': 'min', 'seq_len': 6, 'threshold': 0.8}),\n",
              " (0.022222222222222223,\n",
              "  0.0,\n",
              "  {'criterion': 'min', 'seq_len': 6, 'threshold': 0.85}),\n",
              " (0.03389830508474577,\n",
              "  0.0,\n",
              "  {'criterion': 'min', 'seq_len': 6, 'threshold': 0.9}),\n",
              " (0.05714285714285715,\n",
              "  0.0,\n",
              "  {'criterion': 'min', 'seq_len': 6, 'threshold': 0.95}),\n",
              " (0.18181818181818182,\n",
              "  0.0,\n",
              "  {'criterion': 'min', 'seq_len': 6, 'threshold': 0.98}),\n",
              " (0.0, 0.0, {'criterion': 'min', 'seq_len': 6, 'threshold': 0.99}),\n",
              " (0.0, 0.0, {'criterion': 'min', 'seq_len': 6, 'threshold': 0.995}),\n",
              " (0.016666666666666666,\n",
              "  0.0,\n",
              "  {'criterion': 'min', 'seq_len': 7, 'threshold': 0.7}),\n",
              " (0.021052631578947368,\n",
              "  0.0,\n",
              "  {'criterion': 'min', 'seq_len': 7, 'threshold': 0.75}),\n",
              " (0.0136986301369863,\n",
              "  0.0,\n",
              "  {'criterion': 'min', 'seq_len': 7, 'threshold': 0.8}),\n",
              " (0.021276595744680854,\n",
              "  0.0,\n",
              "  {'criterion': 'min', 'seq_len': 7, 'threshold': 0.85}),\n",
              " (0.03508771929824562,\n",
              "  0.0,\n",
              "  {'criterion': 'min', 'seq_len': 7, 'threshold': 0.9}),\n",
              " (0.05555555555555555,\n",
              "  0.0,\n",
              "  {'criterion': 'min', 'seq_len': 7, 'threshold': 0.95}),\n",
              " (0.0, 0.0, {'criterion': 'min', 'seq_len': 7, 'threshold': 0.98}),\n",
              " (0.0, 0.0, {'criterion': 'min', 'seq_len': 7, 'threshold': 0.99}),\n",
              " (0.0, 0.0, {'criterion': 'min', 'seq_len': 7, 'threshold': 0.995}),\n",
              " (0.019230769230769232,\n",
              "  0.0,\n",
              "  {'criterion': 'min', 'seq_len': 8, 'threshold': 0.7}),\n",
              " (0.021739130434782608,\n",
              "  0.0,\n",
              "  {'criterion': 'min', 'seq_len': 8, 'threshold': 0.75}),\n",
              " (0.014814814814814815,\n",
              "  0.0,\n",
              "  {'criterion': 'min', 'seq_len': 8, 'threshold': 0.8}),\n",
              " (0.02150537634408602,\n",
              "  0.0,\n",
              "  {'criterion': 'min', 'seq_len': 8, 'threshold': 0.85}),\n",
              " (0.037037037037037035,\n",
              "  0.0,\n",
              "  {'criterion': 'min', 'seq_len': 8, 'threshold': 0.9}),\n",
              " (0.060606060606060615,\n",
              "  0.0,\n",
              "  {'criterion': 'min', 'seq_len': 8, 'threshold': 0.95}),\n",
              " (0.0, 0.0, {'criterion': 'min', 'seq_len': 8, 'threshold': 0.98}),\n",
              " (0.0, 0.0, {'criterion': 'min', 'seq_len': 8, 'threshold': 0.99}),\n",
              " (0.0, 0.0, {'criterion': 'min', 'seq_len': 8, 'threshold': 0.995}),\n",
              " (0.0202020202020202,\n",
              "  0.0,\n",
              "  {'criterion': 'min', 'seq_len': 9, 'threshold': 0.7}),\n",
              " (0.02469135802469136,\n",
              "  0.0,\n",
              "  {'criterion': 'min', 'seq_len': 9, 'threshold': 0.75}),\n",
              " (0.017241379310344827,\n",
              "  0.0,\n",
              "  {'criterion': 'min', 'seq_len': 9, 'threshold': 0.8}),\n",
              " (0.02352941176470588,\n",
              "  0.0,\n",
              "  {'criterion': 'min', 'seq_len': 9, 'threshold': 0.85}),\n",
              " (0.03278688524590164,\n",
              "  0.0,\n",
              "  {'criterion': 'min', 'seq_len': 9, 'threshold': 0.9}),\n",
              " (0.06896551724137931,\n",
              "  0.0,\n",
              "  {'criterion': 'min', 'seq_len': 9, 'threshold': 0.95}),\n",
              " (0.0, 0.0, {'criterion': 'min', 'seq_len': 9, 'threshold': 0.98}),\n",
              " (0.0, 0.0, {'criterion': 'min', 'seq_len': 9, 'threshold': 0.99}),\n",
              " (0.0, 0.0, {'criterion': 'min', 'seq_len': 9, 'threshold': 0.995}),\n",
              " (0.022598870056497175,\n",
              "  0.0,\n",
              "  {'criterion': 'min', 'seq_len': 10, 'threshold': 0.7}),\n",
              " (0.02877697841726619,\n",
              "  0.0,\n",
              "  {'criterion': 'min', 'seq_len': 10, 'threshold': 0.75}),\n",
              " (0.017699115044247787,\n",
              "  0.0,\n",
              "  {'criterion': 'min', 'seq_len': 10, 'threshold': 0.8}),\n",
              " (0.024390243902439025,\n",
              "  0.0,\n",
              "  {'criterion': 'min', 'seq_len': 10, 'threshold': 0.85}),\n",
              " (0.0392156862745098,\n",
              "  0.0,\n",
              "  {'criterion': 'min', 'seq_len': 10, 'threshold': 0.9}),\n",
              " (0.07407407407407408,\n",
              "  0.0,\n",
              "  {'criterion': 'min', 'seq_len': 10, 'threshold': 0.95}),\n",
              " (0.0, 0.0, {'criterion': 'min', 'seq_len': 10, 'threshold': 0.98}),\n",
              " (0.0, 0.0, {'criterion': 'min', 'seq_len': 10, 'threshold': 0.99}),\n",
              " (0.0, 0.0, {'criterion': 'min', 'seq_len': 10, 'threshold': 0.995}),\n",
              " (0.013850415512465374,\n",
              "  0.05504587155963303,\n",
              "  {'criterion': 'avg', 'seq_len': 3, 'threshold': 0.7}),\n",
              " (0.019011406844106463,\n",
              "  0.05263157894736842,\n",
              "  {'criterion': 'avg', 'seq_len': 3, 'threshold': 0.75}),\n",
              " (0.015306122448979591,\n",
              "  0.04081632653061225,\n",
              "  {'criterion': 'avg', 'seq_len': 3, 'threshold': 0.8}),\n",
              " (0.015384615384615384,\n",
              "  0.0,\n",
              "  {'criterion': 'avg', 'seq_len': 3, 'threshold': 0.85}),\n",
              " (0.029197080291970805,\n",
              "  0.0,\n",
              "  {'criterion': 'avg', 'seq_len': 3, 'threshold': 0.9}),\n",
              " (0.03773584905660378,\n",
              "  0.0,\n",
              "  {'criterion': 'avg', 'seq_len': 3, 'threshold': 0.95}),\n",
              " (0.09090909090909091,\n",
              "  0.0,\n",
              "  {'criterion': 'avg', 'seq_len': 3, 'threshold': 0.98}),\n",
              " (0.14285714285714285,\n",
              "  0.0,\n",
              "  {'criterion': 'avg', 'seq_len': 3, 'threshold': 0.99}),\n",
              " (0.0, 0.0, {'criterion': 'avg', 'seq_len': 3, 'threshold': 0.995}),\n",
              " (0.013458950201884253,\n",
              "  0.0594059405940594,\n",
              "  {'criterion': 'avg', 'seq_len': 4, 'threshold': 0.7}),\n",
              " (0.015180265654648958,\n",
              "  0.028571428571428574,\n",
              "  {'criterion': 'avg', 'seq_len': 4, 'threshold': 0.75}),\n",
              " (0.020050125313283207,\n",
              "  0.03846153846153846,\n",
              "  {'criterion': 'avg', 'seq_len': 4, 'threshold': 0.8}),\n",
              " (0.014234875444839857,\n",
              "  0.0,\n",
              "  {'criterion': 'avg', 'seq_len': 4, 'threshold': 0.85}),\n",
              " (0.02580645161290323,\n",
              "  0.0,\n",
              "  {'criterion': 'avg', 'seq_len': 4, 'threshold': 0.9}),\n",
              " (0.03076923076923077,\n",
              "  0.0,\n",
              "  {'criterion': 'avg', 'seq_len': 4, 'threshold': 0.95}),\n",
              " (0.08333333333333333,\n",
              "  0.0,\n",
              "  {'criterion': 'avg', 'seq_len': 4, 'threshold': 0.98}),\n",
              " (0.0, 0.0, {'criterion': 'avg', 'seq_len': 4, 'threshold': 0.99}),\n",
              " (0.0, 0.0, {'criterion': 'avg', 'seq_len': 4, 'threshold': 0.995}),\n",
              " (0.016216216216216217,\n",
              "  0.0606060606060606,\n",
              "  {'criterion': 'avg', 'seq_len': 5, 'threshold': 0.7}),\n",
              " (0.01865671641791045,\n",
              "  0.030303030303030307,\n",
              "  {'criterion': 'avg', 'seq_len': 5, 'threshold': 0.75}),\n",
              " (0.020408163265306124,\n",
              "  0.04081632653061225,\n",
              "  {'criterion': 'avg', 'seq_len': 5, 'threshold': 0.8}),\n",
              " (0.020270270270270268,\n",
              "  0.0,\n",
              "  {'criterion': 'avg', 'seq_len': 5, 'threshold': 0.85}),\n",
              " (0.024390243902439025,\n",
              "  0.0,\n",
              "  {'criterion': 'avg', 'seq_len': 5, 'threshold': 0.9}),\n",
              " (0.031746031746031744,\n",
              "  0.0,\n",
              "  {'criterion': 'avg', 'seq_len': 5, 'threshold': 0.95}),\n",
              " (0.08333333333333333,\n",
              "  0.0,\n",
              "  {'criterion': 'avg', 'seq_len': 5, 'threshold': 0.98}),\n",
              " (0.0, 0.0, {'criterion': 'avg', 'seq_len': 5, 'threshold': 0.99}),\n",
              " (0.0, 0.0, {'criterion': 'avg', 'seq_len': 5, 'threshold': 0.995}),\n",
              " (0.016129032258064516,\n",
              "  0.04166666666666668,\n",
              "  {'criterion': 'avg', 'seq_len': 6, 'threshold': 0.7}),\n",
              " (0.01851851851851852,\n",
              "  0.0,\n",
              "  {'criterion': 'avg', 'seq_len': 6, 'threshold': 0.75}),\n",
              " (0.024752475247524754,\n",
              "  0.0,\n",
              "  {'criterion': 'avg', 'seq_len': 6, 'threshold': 0.8}),\n",
              " (0.013559322033898306,\n",
              "  0.0,\n",
              "  {'criterion': 'avg', 'seq_len': 6, 'threshold': 0.85}),\n",
              " (0.022346368715083796,\n",
              "  0.0,\n",
              "  {'criterion': 'avg', 'seq_len': 6, 'threshold': 0.9}),\n",
              " (0.028571428571428567,\n",
              "  0.0,\n",
              "  {'criterion': 'avg', 'seq_len': 6, 'threshold': 0.95}),\n",
              " (0.058823529411764705,\n",
              "  0.0,\n",
              "  {'criterion': 'avg', 'seq_len': 6, 'threshold': 0.98}),\n",
              " (0.14285714285714285,\n",
              "  0.0,\n",
              "  {'criterion': 'avg', 'seq_len': 6, 'threshold': 0.99}),\n",
              " (0.0, 0.0, {'criterion': 'avg', 'seq_len': 6, 'threshold': 0.995}),\n",
              " (0.016260162601626015,\n",
              "  0.0,\n",
              "  {'criterion': 'avg', 'seq_len': 7, 'threshold': 0.7}),\n",
              " (0.01865671641791045,\n",
              "  0.0,\n",
              "  {'criterion': 'avg', 'seq_len': 7, 'threshold': 0.75}),\n",
              " (0.024813895781637715,\n",
              "  0.0,\n",
              "  {'criterion': 'avg', 'seq_len': 7, 'threshold': 0.8}),\n",
              " (0.013513513513513513,\n",
              "  0.0,\n",
              "  {'criterion': 'avg', 'seq_len': 7, 'threshold': 0.85}),\n",
              " (0.022598870056497175,\n",
              "  0.0,\n",
              "  {'criterion': 'avg', 'seq_len': 7, 'threshold': 0.9}),\n",
              " (0.029850746268656716,\n",
              "  0.0,\n",
              "  {'criterion': 'avg', 'seq_len': 7, 'threshold': 0.95}),\n",
              " (0.06666666666666667,\n",
              "  0.0,\n",
              "  {'criterion': 'avg', 'seq_len': 7, 'threshold': 0.98}),\n",
              " (0.15384615384615383,\n",
              "  0.0,\n",
              "  {'criterion': 'avg', 'seq_len': 7, 'threshold': 0.99}),\n",
              " (0.0, 0.0, {'criterion': 'avg', 'seq_len': 7, 'threshold': 0.995}),\n",
              " (0.016415868673050615,\n",
              "  0.0,\n",
              "  {'criterion': 'avg', 'seq_len': 8, 'threshold': 0.7}),\n",
              " (0.018761726078799248,\n",
              "  0.0,\n",
              "  {'criterion': 'avg', 'seq_len': 8, 'threshold': 0.75}),\n",
              " (0.024509803921568627,\n",
              "  0.0,\n",
              "  {'criterion': 'avg', 'seq_len': 8, 'threshold': 0.8}),\n",
              " (0.01444043321299639,\n",
              "  0.0,\n",
              "  {'criterion': 'avg', 'seq_len': 8, 'threshold': 0.85}),\n",
              " (0.022222222222222223,\n",
              "  0.0,\n",
              "  {'criterion': 'avg', 'seq_len': 8, 'threshold': 0.9}),\n",
              " (0.029850746268656716,\n",
              "  0.0,\n",
              "  {'criterion': 'avg', 'seq_len': 8, 'threshold': 0.95}),\n",
              " (0.052631578947368425,\n",
              "  0.0,\n",
              "  {'criterion': 'avg', 'seq_len': 8, 'threshold': 0.98}),\n",
              " (0.11764705882352941,\n",
              "  0.0,\n",
              "  {'criterion': 'avg', 'seq_len': 8, 'threshold': 0.99}),\n",
              " (0.0, 0.0, {'criterion': 'avg', 'seq_len': 8, 'threshold': 0.995}),\n",
              " (0.016643550624133148,\n",
              "  0.0,\n",
              "  {'criterion': 'avg', 'seq_len': 9, 'threshold': 0.7}),\n",
              " (0.018416206261510127,\n",
              "  0.0,\n",
              "  {'criterion': 'avg', 'seq_len': 9, 'threshold': 0.75}),\n",
              " (0.019950124688279298,\n",
              "  0.0,\n",
              "  {'criterion': 'avg', 'seq_len': 9, 'threshold': 0.8}),\n",
              " (0.021582733812949638,\n",
              "  0.0,\n",
              "  {'criterion': 'avg', 'seq_len': 9, 'threshold': 0.85}),\n",
              " (0.022727272727272728,\n",
              "  0.0,\n",
              "  {'criterion': 'avg', 'seq_len': 9, 'threshold': 0.9}),\n",
              " (0.028985507246376815,\n",
              "  0.0,\n",
              "  {'criterion': 'avg', 'seq_len': 9, 'threshold': 0.95}),\n",
              " (0.052631578947368425,\n",
              "  0.0,\n",
              "  {'criterion': 'avg', 'seq_len': 9, 'threshold': 0.98}),\n",
              " (0.1111111111111111,\n",
              "  0.0,\n",
              "  {'criterion': 'avg', 'seq_len': 9, 'threshold': 0.99}),\n",
              " (0.0, 0.0, {'criterion': 'avg', 'seq_len': 9, 'threshold': 0.995}),\n",
              " (0.01928374655647383,\n",
              "  0.0,\n",
              "  {'criterion': 'avg', 'seq_len': 10, 'threshold': 0.7}),\n",
              " (0.01798561151079137,\n",
              "  0.0,\n",
              "  {'criterion': 'avg', 'seq_len': 10, 'threshold': 0.75}),\n",
              " (0.020304568527918784,\n",
              "  0.0,\n",
              "  {'criterion': 'avg', 'seq_len': 10, 'threshold': 0.8}),\n",
              " (0.02127659574468085,\n",
              "  0.0,\n",
              "  {'criterion': 'avg', 'seq_len': 10, 'threshold': 0.85}),\n",
              " (0.02247191011235955,\n",
              "  0.0,\n",
              "  {'criterion': 'avg', 'seq_len': 10, 'threshold': 0.9}),\n",
              " (0.028985507246376815,\n",
              "  0.0,\n",
              "  {'criterion': 'avg', 'seq_len': 10, 'threshold': 0.95}),\n",
              " (0.052631578947368425,\n",
              "  0.0,\n",
              "  {'criterion': 'avg', 'seq_len': 10, 'threshold': 0.98}),\n",
              " (0.09090909090909091,\n",
              "  0.0,\n",
              "  {'criterion': 'avg', 'seq_len': 10, 'threshold': 0.99}),\n",
              " (0.0, 0.0, {'criterion': 'avg', 'seq_len': 10, 'threshold': 0.995})]"
            ]
          },
          "metadata": {
            "tags": []
          },
          "execution_count": 179
        }
      ]
    }
  ]
}