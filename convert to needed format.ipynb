{
 "cells": [
  {
   "cell_type": "code",
   "execution_count": 8,
   "metadata": {},
   "outputs": [],
   "source": [
    "import pandas as pd\n",
    "import re\n",
    "import os"
   ]
  },
  {
   "cell_type": "code",
   "execution_count": 9,
   "metadata": {},
   "outputs": [],
   "source": [
    "def prntfl(f):\n",
    "    print(open(f, 'r', encoding='utf-8').read())"
   ]
  },
  {
   "cell_type": "code",
   "execution_count": 10,
   "metadata": {},
   "outputs": [],
   "source": [
    "def fltext(f):\n",
    "    return open(f, 'r', encoding='utf-8').read()"
   ]
  },
  {
   "cell_type": "code",
   "execution_count": 11,
   "metadata": {},
   "outputs": [],
   "source": [
    "def convert(file, base_dir=''):\n",
    "    df = pd.read_excel(file)\n",
    "    df = df[[df.columns[0], df.columns[1], df.columns[-2], df.columns[-1]]]\n",
    "    text = df.to_csv(sep='\\t')\n",
    "    sent_id = 0\n",
    "    \n",
    "    outp = []\n",
    "    \n",
    "    for line in text.splitlines()[1:]:\n",
    "        if '# sent_id' in line:\n",
    "            sent_id = re.search(\"sent_id = ([0-9]+)\", line).group(1)\n",
    "        try:\n",
    "            line_id, token_id, token, aspect, mark = line.split('\\t')\n",
    "        except:\n",
    "            continue\n",
    "        if aspect and mark:\n",
    "            outp.append([sent_id, (int(token_id), ), aspect, mark])\n",
    "    \n",
    "    outp = select_slices(outp)\n",
    "    \n",
    "    new_file = os.path.join(base_dir, file.split('.')[0] + '_tonal_words.tsv')\n",
    "    \n",
    "    with open(new_file, 'w', encoding='utf-8') as f:\n",
    "        for sent_id, token_ids, aspect, mark in outp:\n",
    "            f.write(sent_id)\n",
    "            f.write('\\t')\n",
    "            f.write(','.join([str(i) for i in token_ids]))\n",
    "            f.write('\\t')\n",
    "            f.write(aspect)\n",
    "            f.write('\\t')\n",
    "            f.write(str(int(float(mark))))\n",
    "            f.write('\\n')\n",
    "    \n",
    "    print(new_file + ' - ready!')"
   ]
  },
  {
   "cell_type": "code",
   "execution_count": 12,
   "metadata": {},
   "outputs": [],
   "source": [
    "def select_slices(inp):\n",
    "    outp = [inp[0]]\n",
    "    \n",
    "    for token1, token2 in zip(inp[:-1], inp[1:]):\n",
    "        sent_id1, token_id1, aspect1, mark1 = token1\n",
    "        sent_id2, token_id2, aspect2, mark2 = token2\n",
    "        token_id1 = token_id1[0]\n",
    "        token_id2 = token_id2[0]\n",
    "        if sent_id1 == sent_id2 and aspect1 == aspect2 and mark1 == mark2:\n",
    "            if token_id2 == token_id1 + 1:\n",
    "                outp[-1][1] = (outp[-1][1][0], token_id2)\n",
    "            else:\n",
    "                outp.append(token2)\n",
    "        else:\n",
    "            outp.append(token2)\n",
    "    \n",
    "    return outp"
   ]
  },
  {
   "cell_type": "code",
   "execution_count": 13,
   "metadata": {},
   "outputs": [
    {
     "name": "stdout",
     "output_type": "stream",
     "text": [
      "разметка_финал\\12943_tonal_words.tsv - ready!\n",
      "разметка_финал\\13823_tonal_words.tsv - ready!\n",
      "разметка_финал\\20086_tonal_words.tsv - ready!\n",
      "разметка_финал\\28083_tonal_words.tsv - ready!\n",
      "разметка_финал\\32840_tonal_words.tsv - ready!\n",
      "разметка_финал\\32856_tonal_words.tsv - ready!\n",
      "разметка_финал\\33591_tonal_words.tsv - ready!\n",
      "разметка_финал\\33693_tonal_words.tsv - ready!\n",
      "разметка_финал\\35486_tonal_words.tsv - ready!\n",
      "разметка_финал\\5648_tonal_words.tsv - ready!\n"
     ]
    }
   ],
   "source": [
    "for f in os.listdir():\n",
    "    if f.endswith('.xlsx'):\n",
    "        convert(f, base_dir='разметка_финал')"
   ]
  },
  {
   "cell_type": "code",
   "execution_count": 14,
   "metadata": {},
   "outputs": [
    {
     "name": "stdout",
     "output_type": "stream",
     "text": [
      "9\t20\tService\t1\n",
      "9\t22,23\tService\t1\n",
      "11\t8,9\tFood\t1\n",
      "11\t11\tFood\t1\n",
      "12\t7,8\tFood\t1\n",
      "12\t14,15\tService\t1\n",
      "\n"
     ]
    }
   ],
   "source": [
    "prntfl(\"разметка_финал/13823_tonal_words.tsv\")"
   ]
  },
  {
   "cell_type": "code",
   "execution_count": null,
   "metadata": {},
   "outputs": [],
   "source": []
  }
 ],
 "metadata": {
  "kernelspec": {
   "display_name": "Python 3",
   "language": "python",
   "name": "python3"
  },
  "language_info": {
   "codemirror_mode": {
    "name": "ipython",
    "version": 3
   },
   "file_extension": ".py",
   "mimetype": "text/x-python",
   "name": "python",
   "nbconvert_exporter": "python",
   "pygments_lexer": "ipython3",
   "version": "3.7.3"
  }
 },
 "nbformat": 4,
 "nbformat_minor": 2
}
